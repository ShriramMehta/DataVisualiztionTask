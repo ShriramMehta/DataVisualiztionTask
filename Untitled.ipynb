{
 "cells": [
  {
   "cell_type": "code",
   "execution_count": 28,
   "id": "f3c5e83c",
   "metadata": {},
   "outputs": [],
   "source": [
    "import pandas as pd\n",
    "import numpy as np\n",
    "import plotly as plt\n",
    "from datetime import date"
   ]
  },
  {
   "cell_type": "code",
   "execution_count": 29,
   "id": "5d5aa9a5",
   "metadata": {},
   "outputs": [
    {
     "data": {
      "text/html": [
       "<div>\n",
       "<style scoped>\n",
       "    .dataframe tbody tr th:only-of-type {\n",
       "        vertical-align: middle;\n",
       "    }\n",
       "\n",
       "    .dataframe tbody tr th {\n",
       "        vertical-align: top;\n",
       "    }\n",
       "\n",
       "    .dataframe thead th {\n",
       "        text-align: right;\n",
       "    }\n",
       "</style>\n",
       "<table border=\"1\" class=\"dataframe\">\n",
       "  <thead>\n",
       "    <tr style=\"text-align: right;\">\n",
       "      <th></th>\n",
       "      <th>Unnamed: 0</th>\n",
       "      <th>channel_id</th>\n",
       "      <th>video_id</th>\n",
       "      <th>title</th>\n",
       "      <th>url</th>\n",
       "      <th>description</th>\n",
       "      <th>duration</th>\n",
       "      <th>published_at</th>\n",
       "      <th>thumbnails</th>\n",
       "      <th>view_count</th>\n",
       "      <th>like_count</th>\n",
       "      <th>comment_count</th>\n",
       "    </tr>\n",
       "  </thead>\n",
       "  <tbody>\n",
       "    <tr>\n",
       "      <th>0</th>\n",
       "      <td>0</td>\n",
       "      <td>UCvpfclapgcuJo0M_x65pfRw</td>\n",
       "      <td>bkkIvu1y0LU</td>\n",
       "      <td>Samsung Galaxy F54 First Impressions!</td>\n",
       "      <td>https://www.youtube.com/watch?v=bkkIvu1y0LU</td>\n",
       "      <td>Samsung has just launched the new Galaxy F54 a...</td>\n",
       "      <td>05:28:00</td>\n",
       "      <td>June 06, 2023</td>\n",
       "      <td>https://i.ytimg.com/vi_webp/bkkIvu1y0LU/maxres...</td>\n",
       "      <td>87286</td>\n",
       "      <td>3476</td>\n",
       "      <td>675</td>\n",
       "    </tr>\n",
       "    <tr>\n",
       "      <th>1</th>\n",
       "      <td>1</td>\n",
       "      <td>UCvpfclapgcuJo0M_x65pfRw</td>\n",
       "      <td>J3igzbaOF_M</td>\n",
       "      <td>7 Dangerous Android Settings You Need to Turn ...</td>\n",
       "      <td>https://www.youtube.com/watch?v=J3igzbaOF_M</td>\n",
       "      <td>If you are an Android user, this video is a mu...</td>\n",
       "      <td>04:18:00</td>\n",
       "      <td>June 03, 2023</td>\n",
       "      <td>https://i.ytimg.com/vi_webp/J3igzbaOF_M/maxres...</td>\n",
       "      <td>217477</td>\n",
       "      <td>12693</td>\n",
       "      <td>373</td>\n",
       "    </tr>\n",
       "    <tr>\n",
       "      <th>2</th>\n",
       "      <td>2</td>\n",
       "      <td>UCvpfclapgcuJo0M_x65pfRw</td>\n",
       "      <td>LuThmQCAnZc</td>\n",
       "      <td>QLED vs LED TV at 30K: Don't Make This Mistake!</td>\n",
       "      <td>https://www.youtube.com/watch?v=LuThmQCAnZc</td>\n",
       "      <td>Everyone has a perception that QLED TVs are ex...</td>\n",
       "      <td>05:29:00</td>\n",
       "      <td>May 30, 2023</td>\n",
       "      <td>https://i.ytimg.com/vi_webp/LuThmQCAnZc/maxres...</td>\n",
       "      <td>124445</td>\n",
       "      <td>4452</td>\n",
       "      <td>295</td>\n",
       "    </tr>\n",
       "    <tr>\n",
       "      <th>3</th>\n",
       "      <td>3</td>\n",
       "      <td>UCvpfclapgcuJo0M_x65pfRw</td>\n",
       "      <td>dPLj_lId_zY</td>\n",
       "      <td>Lava Agni 2 Review: The Good, The Bad, The Best!</td>\n",
       "      <td>https://www.youtube.com/watch?v=dPLj_lId_zY</td>\n",
       "      <td>The Lava Agni 2 is here and this is one hyped ...</td>\n",
       "      <td>07:31:00</td>\n",
       "      <td>May 26, 2023</td>\n",
       "      <td>https://i.ytimg.com/vi_webp/dPLj_lId_zY/maxres...</td>\n",
       "      <td>168100</td>\n",
       "      <td>8885</td>\n",
       "      <td>634</td>\n",
       "    </tr>\n",
       "    <tr>\n",
       "      <th>4</th>\n",
       "      <td>4</td>\n",
       "      <td>UCvpfclapgcuJo0M_x65pfRw</td>\n",
       "      <td>QOm4okp1J5c</td>\n",
       "      <td>Moto Edge 40: A Good Option Under 30K?</td>\n",
       "      <td>https://www.youtube.com/watch?v=QOm4okp1J5c</td>\n",
       "      <td>Motorola has launched the new Edge 40 and this...</td>\n",
       "      <td>05:58:00</td>\n",
       "      <td>May 23, 2023</td>\n",
       "      <td>https://i.ytimg.com/vi_webp/QOm4okp1J5c/maxres...</td>\n",
       "      <td>271683</td>\n",
       "      <td>9591</td>\n",
       "      <td>1000</td>\n",
       "    </tr>\n",
       "  </tbody>\n",
       "</table>\n",
       "</div>"
      ],
      "text/plain": [
       "   Unnamed: 0                channel_id     video_id  \\\n",
       "0           0  UCvpfclapgcuJo0M_x65pfRw  bkkIvu1y0LU   \n",
       "1           1  UCvpfclapgcuJo0M_x65pfRw  J3igzbaOF_M   \n",
       "2           2  UCvpfclapgcuJo0M_x65pfRw  LuThmQCAnZc   \n",
       "3           3  UCvpfclapgcuJo0M_x65pfRw  dPLj_lId_zY   \n",
       "4           4  UCvpfclapgcuJo0M_x65pfRw  QOm4okp1J5c   \n",
       "\n",
       "                                               title  \\\n",
       "0              Samsung Galaxy F54 First Impressions!   \n",
       "1  7 Dangerous Android Settings You Need to Turn ...   \n",
       "2    QLED vs LED TV at 30K: Don't Make This Mistake!   \n",
       "3   Lava Agni 2 Review: The Good, The Bad, The Best!   \n",
       "4             Moto Edge 40: A Good Option Under 30K?   \n",
       "\n",
       "                                           url  \\\n",
       "0  https://www.youtube.com/watch?v=bkkIvu1y0LU   \n",
       "1  https://www.youtube.com/watch?v=J3igzbaOF_M   \n",
       "2  https://www.youtube.com/watch?v=LuThmQCAnZc   \n",
       "3  https://www.youtube.com/watch?v=dPLj_lId_zY   \n",
       "4  https://www.youtube.com/watch?v=QOm4okp1J5c   \n",
       "\n",
       "                                         description  duration   published_at  \\\n",
       "0  Samsung has just launched the new Galaxy F54 a...  05:28:00  June 06, 2023   \n",
       "1  If you are an Android user, this video is a mu...  04:18:00  June 03, 2023   \n",
       "2  Everyone has a perception that QLED TVs are ex...  05:29:00   May 30, 2023   \n",
       "3  The Lava Agni 2 is here and this is one hyped ...  07:31:00   May 26, 2023   \n",
       "4  Motorola has launched the new Edge 40 and this...  05:58:00   May 23, 2023   \n",
       "\n",
       "                                          thumbnails  view_count  like_count  \\\n",
       "0  https://i.ytimg.com/vi_webp/bkkIvu1y0LU/maxres...       87286        3476   \n",
       "1  https://i.ytimg.com/vi_webp/J3igzbaOF_M/maxres...      217477       12693   \n",
       "2  https://i.ytimg.com/vi_webp/LuThmQCAnZc/maxres...      124445        4452   \n",
       "3  https://i.ytimg.com/vi_webp/dPLj_lId_zY/maxres...      168100        8885   \n",
       "4  https://i.ytimg.com/vi_webp/QOm4okp1J5c/maxres...      271683        9591   \n",
       "\n",
       "   comment_count  \n",
       "0            675  \n",
       "1            373  \n",
       "2            295  \n",
       "3            634  \n",
       "4           1000  "
      ]
     },
     "execution_count": 29,
     "metadata": {},
     "output_type": "execute_result"
    }
   ],
   "source": [
    "df = pd.read_excel(\"latest 20 videos data beebom.xlsx\")\n",
    "df.head()"
   ]
  },
  {
   "cell_type": "markdown",
   "id": "5fc74ee9",
   "metadata": {},
   "source": [
    "## Finding out which brand videos get the most views"
   ]
  },
  {
   "cell_type": "code",
   "execution_count": 30,
   "id": "bad8e193",
   "metadata": {},
   "outputs": [],
   "source": [
    "brands = ['Dell','Samsung','Google','ASUS','OnePlus','Moto','Lava']\n",
    "import re\n",
    "pattern = r'\\b(?:{})\\b'.format('|'.join(brands))\n",
    "\n",
    "# Define a function to extract the brand name from the title\n",
    "def extract_brand_name(title):\n",
    "    match = re.search(pattern, title, flags=re.IGNORECASE)\n",
    "    return match.group(0) if match else 'Other'\n",
    "\n",
    "df['brands'] = df['title'].apply(extract_brand_name)"
   ]
  },
  {
   "cell_type": "code",
   "execution_count": 31,
   "id": "7301d5c7",
   "metadata": {},
   "outputs": [
    {
     "data": {
      "text/plain": [
       "0     Samsung\n",
       "1       Other\n",
       "2       Other\n",
       "3        Lava\n",
       "4        Moto\n",
       "5       Other\n",
       "6        ASUS\n",
       "7        Dell\n",
       "8      Google\n",
       "9       Other\n",
       "10       ASUS\n",
       "11      Other\n",
       "12      Other\n",
       "13      Other\n",
       "14    OnePlus\n",
       "15      Other\n",
       "16       ASUS\n",
       "17      Other\n",
       "18      Other\n",
       "19       Dell\n",
       "Name: brands, dtype: object"
      ]
     },
     "execution_count": 31,
     "metadata": {},
     "output_type": "execute_result"
    }
   ],
   "source": [
    "df[\"brands\"]"
   ]
  },
  {
   "cell_type": "code",
   "execution_count": 47,
   "id": "db0cbca1",
   "metadata": {},
   "outputs": [],
   "source": [
    "import plotly.express as px\n",
    "import plotly.graph_objects as go"
   ]
  },
  {
   "cell_type": "code",
   "execution_count": 49,
   "id": "f802bd90",
   "metadata": {},
   "outputs": [
    {
     "name": "stderr",
     "output_type": "stream",
     "text": [
      "C:\\Users\\Aditya Chivate\\AppData\\Local\\Temp\\ipykernel_20252\\1456759416.py:4: FutureWarning:\n",
      "\n",
      "Indexing with multiple keys (implicitly converted to a tuple of keys) will be deprecated, use a list instead.\n",
      "\n"
     ]
    },
    {
     "data": {
      "text/html": [
       "<div>\n",
       "<style scoped>\n",
       "    .dataframe tbody tr th:only-of-type {\n",
       "        vertical-align: middle;\n",
       "    }\n",
       "\n",
       "    .dataframe tbody tr th {\n",
       "        vertical-align: top;\n",
       "    }\n",
       "\n",
       "    .dataframe thead th {\n",
       "        text-align: right;\n",
       "    }\n",
       "</style>\n",
       "<table border=\"1\" class=\"dataframe\">\n",
       "  <thead>\n",
       "    <tr style=\"text-align: right;\">\n",
       "      <th></th>\n",
       "      <th>brands</th>\n",
       "      <th>view_count</th>\n",
       "      <th>total impressions</th>\n",
       "    </tr>\n",
       "  </thead>\n",
       "  <tbody>\n",
       "    <tr>\n",
       "      <th>0</th>\n",
       "      <td>ASUS</td>\n",
       "      <td>283451</td>\n",
       "      <td>10757</td>\n",
       "    </tr>\n",
       "    <tr>\n",
       "      <th>1</th>\n",
       "      <td>Dell</td>\n",
       "      <td>192110</td>\n",
       "      <td>6741</td>\n",
       "    </tr>\n",
       "    <tr>\n",
       "      <th>2</th>\n",
       "      <td>Google</td>\n",
       "      <td>321738</td>\n",
       "      <td>12871</td>\n",
       "    </tr>\n",
       "    <tr>\n",
       "      <th>3</th>\n",
       "      <td>Lava</td>\n",
       "      <td>168100</td>\n",
       "      <td>9519</td>\n",
       "    </tr>\n",
       "    <tr>\n",
       "      <th>4</th>\n",
       "      <td>Moto</td>\n",
       "      <td>271683</td>\n",
       "      <td>10591</td>\n",
       "    </tr>\n",
       "    <tr>\n",
       "      <th>5</th>\n",
       "      <td>OnePlus</td>\n",
       "      <td>408002</td>\n",
       "      <td>10510</td>\n",
       "    </tr>\n",
       "    <tr>\n",
       "      <th>7</th>\n",
       "      <td>Samsung</td>\n",
       "      <td>87286</td>\n",
       "      <td>4151</td>\n",
       "    </tr>\n",
       "  </tbody>\n",
       "</table>\n",
       "</div>"
      ],
      "text/plain": [
       "    brands  view_count  total impressions\n",
       "0     ASUS      283451              10757\n",
       "1     Dell      192110               6741\n",
       "2   Google      321738              12871\n",
       "3     Lava      168100               9519\n",
       "4     Moto      271683              10591\n",
       "5  OnePlus      408002              10510\n",
       "7  Samsung       87286               4151"
      ]
     },
     "execution_count": 49,
     "metadata": {},
     "output_type": "execute_result"
    }
   ],
   "source": [
    "df_group1 = df\n",
    "df_group1['total impressions'] = df_group1['like_count'] + df_group1['comment_count']\n",
    "\n",
    "df_group = df_group1.groupby('brands')[('view_count','total impressions')].sum().reset_index()\n",
    "\n",
    "df_group = df_group[df_group['brands'] != 'Other']\n",
    "df_group"
   ]
  },
  {
   "cell_type": "code",
   "execution_count": 50,
   "id": "1b7f24cb",
   "metadata": {},
   "outputs": [
    {
     "data": {
      "application/vnd.plotly.v1+json": {
       "config": {
        "plotlyServerURL": "https://plot.ly"
       },
       "data": [
        {
         "name": "Views",
         "type": "bar",
         "x": [
          "ASUS",
          "Dell",
          "Google",
          "Lava",
          "Moto",
          "OnePlus",
          "Samsung"
         ],
         "y": [
          283451,
          192110,
          321738,
          168100,
          271683,
          408002,
          87286
         ]
        },
        {
         "name": "Total Impressions",
         "type": "bar",
         "x": [
          "ASUS",
          "Dell",
          "Google",
          "Lava",
          "Moto",
          "OnePlus",
          "Samsung"
         ],
         "y": [
          10757,
          6741,
          12871,
          9519,
          10591,
          10510,
          4151
         ]
        }
       ],
       "layout": {
        "barmode": "stack",
        "template": {
         "data": {
          "bar": [
           {
            "error_x": {
             "color": "#2a3f5f"
            },
            "error_y": {
             "color": "#2a3f5f"
            },
            "marker": {
             "line": {
              "color": "#E5ECF6",
              "width": 0.5
             },
             "pattern": {
              "fillmode": "overlay",
              "size": 10,
              "solidity": 0.2
             }
            },
            "type": "bar"
           }
          ],
          "barpolar": [
           {
            "marker": {
             "line": {
              "color": "#E5ECF6",
              "width": 0.5
             },
             "pattern": {
              "fillmode": "overlay",
              "size": 10,
              "solidity": 0.2
             }
            },
            "type": "barpolar"
           }
          ],
          "carpet": [
           {
            "aaxis": {
             "endlinecolor": "#2a3f5f",
             "gridcolor": "white",
             "linecolor": "white",
             "minorgridcolor": "white",
             "startlinecolor": "#2a3f5f"
            },
            "baxis": {
             "endlinecolor": "#2a3f5f",
             "gridcolor": "white",
             "linecolor": "white",
             "minorgridcolor": "white",
             "startlinecolor": "#2a3f5f"
            },
            "type": "carpet"
           }
          ],
          "choropleth": [
           {
            "colorbar": {
             "outlinewidth": 0,
             "ticks": ""
            },
            "type": "choropleth"
           }
          ],
          "contour": [
           {
            "colorbar": {
             "outlinewidth": 0,
             "ticks": ""
            },
            "colorscale": [
             [
              0,
              "#0d0887"
             ],
             [
              0.1111111111111111,
              "#46039f"
             ],
             [
              0.2222222222222222,
              "#7201a8"
             ],
             [
              0.3333333333333333,
              "#9c179e"
             ],
             [
              0.4444444444444444,
              "#bd3786"
             ],
             [
              0.5555555555555556,
              "#d8576b"
             ],
             [
              0.6666666666666666,
              "#ed7953"
             ],
             [
              0.7777777777777778,
              "#fb9f3a"
             ],
             [
              0.8888888888888888,
              "#fdca26"
             ],
             [
              1,
              "#f0f921"
             ]
            ],
            "type": "contour"
           }
          ],
          "contourcarpet": [
           {
            "colorbar": {
             "outlinewidth": 0,
             "ticks": ""
            },
            "type": "contourcarpet"
           }
          ],
          "heatmap": [
           {
            "colorbar": {
             "outlinewidth": 0,
             "ticks": ""
            },
            "colorscale": [
             [
              0,
              "#0d0887"
             ],
             [
              0.1111111111111111,
              "#46039f"
             ],
             [
              0.2222222222222222,
              "#7201a8"
             ],
             [
              0.3333333333333333,
              "#9c179e"
             ],
             [
              0.4444444444444444,
              "#bd3786"
             ],
             [
              0.5555555555555556,
              "#d8576b"
             ],
             [
              0.6666666666666666,
              "#ed7953"
             ],
             [
              0.7777777777777778,
              "#fb9f3a"
             ],
             [
              0.8888888888888888,
              "#fdca26"
             ],
             [
              1,
              "#f0f921"
             ]
            ],
            "type": "heatmap"
           }
          ],
          "heatmapgl": [
           {
            "colorbar": {
             "outlinewidth": 0,
             "ticks": ""
            },
            "colorscale": [
             [
              0,
              "#0d0887"
             ],
             [
              0.1111111111111111,
              "#46039f"
             ],
             [
              0.2222222222222222,
              "#7201a8"
             ],
             [
              0.3333333333333333,
              "#9c179e"
             ],
             [
              0.4444444444444444,
              "#bd3786"
             ],
             [
              0.5555555555555556,
              "#d8576b"
             ],
             [
              0.6666666666666666,
              "#ed7953"
             ],
             [
              0.7777777777777778,
              "#fb9f3a"
             ],
             [
              0.8888888888888888,
              "#fdca26"
             ],
             [
              1,
              "#f0f921"
             ]
            ],
            "type": "heatmapgl"
           }
          ],
          "histogram": [
           {
            "marker": {
             "pattern": {
              "fillmode": "overlay",
              "size": 10,
              "solidity": 0.2
             }
            },
            "type": "histogram"
           }
          ],
          "histogram2d": [
           {
            "colorbar": {
             "outlinewidth": 0,
             "ticks": ""
            },
            "colorscale": [
             [
              0,
              "#0d0887"
             ],
             [
              0.1111111111111111,
              "#46039f"
             ],
             [
              0.2222222222222222,
              "#7201a8"
             ],
             [
              0.3333333333333333,
              "#9c179e"
             ],
             [
              0.4444444444444444,
              "#bd3786"
             ],
             [
              0.5555555555555556,
              "#d8576b"
             ],
             [
              0.6666666666666666,
              "#ed7953"
             ],
             [
              0.7777777777777778,
              "#fb9f3a"
             ],
             [
              0.8888888888888888,
              "#fdca26"
             ],
             [
              1,
              "#f0f921"
             ]
            ],
            "type": "histogram2d"
           }
          ],
          "histogram2dcontour": [
           {
            "colorbar": {
             "outlinewidth": 0,
             "ticks": ""
            },
            "colorscale": [
             [
              0,
              "#0d0887"
             ],
             [
              0.1111111111111111,
              "#46039f"
             ],
             [
              0.2222222222222222,
              "#7201a8"
             ],
             [
              0.3333333333333333,
              "#9c179e"
             ],
             [
              0.4444444444444444,
              "#bd3786"
             ],
             [
              0.5555555555555556,
              "#d8576b"
             ],
             [
              0.6666666666666666,
              "#ed7953"
             ],
             [
              0.7777777777777778,
              "#fb9f3a"
             ],
             [
              0.8888888888888888,
              "#fdca26"
             ],
             [
              1,
              "#f0f921"
             ]
            ],
            "type": "histogram2dcontour"
           }
          ],
          "mesh3d": [
           {
            "colorbar": {
             "outlinewidth": 0,
             "ticks": ""
            },
            "type": "mesh3d"
           }
          ],
          "parcoords": [
           {
            "line": {
             "colorbar": {
              "outlinewidth": 0,
              "ticks": ""
             }
            },
            "type": "parcoords"
           }
          ],
          "pie": [
           {
            "automargin": true,
            "type": "pie"
           }
          ],
          "scatter": [
           {
            "fillpattern": {
             "fillmode": "overlay",
             "size": 10,
             "solidity": 0.2
            },
            "type": "scatter"
           }
          ],
          "scatter3d": [
           {
            "line": {
             "colorbar": {
              "outlinewidth": 0,
              "ticks": ""
             }
            },
            "marker": {
             "colorbar": {
              "outlinewidth": 0,
              "ticks": ""
             }
            },
            "type": "scatter3d"
           }
          ],
          "scattercarpet": [
           {
            "marker": {
             "colorbar": {
              "outlinewidth": 0,
              "ticks": ""
             }
            },
            "type": "scattercarpet"
           }
          ],
          "scattergeo": [
           {
            "marker": {
             "colorbar": {
              "outlinewidth": 0,
              "ticks": ""
             }
            },
            "type": "scattergeo"
           }
          ],
          "scattergl": [
           {
            "marker": {
             "colorbar": {
              "outlinewidth": 0,
              "ticks": ""
             }
            },
            "type": "scattergl"
           }
          ],
          "scattermapbox": [
           {
            "marker": {
             "colorbar": {
              "outlinewidth": 0,
              "ticks": ""
             }
            },
            "type": "scattermapbox"
           }
          ],
          "scatterpolar": [
           {
            "marker": {
             "colorbar": {
              "outlinewidth": 0,
              "ticks": ""
             }
            },
            "type": "scatterpolar"
           }
          ],
          "scatterpolargl": [
           {
            "marker": {
             "colorbar": {
              "outlinewidth": 0,
              "ticks": ""
             }
            },
            "type": "scatterpolargl"
           }
          ],
          "scatterternary": [
           {
            "marker": {
             "colorbar": {
              "outlinewidth": 0,
              "ticks": ""
             }
            },
            "type": "scatterternary"
           }
          ],
          "surface": [
           {
            "colorbar": {
             "outlinewidth": 0,
             "ticks": ""
            },
            "colorscale": [
             [
              0,
              "#0d0887"
             ],
             [
              0.1111111111111111,
              "#46039f"
             ],
             [
              0.2222222222222222,
              "#7201a8"
             ],
             [
              0.3333333333333333,
              "#9c179e"
             ],
             [
              0.4444444444444444,
              "#bd3786"
             ],
             [
              0.5555555555555556,
              "#d8576b"
             ],
             [
              0.6666666666666666,
              "#ed7953"
             ],
             [
              0.7777777777777778,
              "#fb9f3a"
             ],
             [
              0.8888888888888888,
              "#fdca26"
             ],
             [
              1,
              "#f0f921"
             ]
            ],
            "type": "surface"
           }
          ],
          "table": [
           {
            "cells": {
             "fill": {
              "color": "#EBF0F8"
             },
             "line": {
              "color": "white"
             }
            },
            "header": {
             "fill": {
              "color": "#C8D4E3"
             },
             "line": {
              "color": "white"
             }
            },
            "type": "table"
           }
          ]
         },
         "layout": {
          "annotationdefaults": {
           "arrowcolor": "#2a3f5f",
           "arrowhead": 0,
           "arrowwidth": 1
          },
          "autotypenumbers": "strict",
          "coloraxis": {
           "colorbar": {
            "outlinewidth": 0,
            "ticks": ""
           }
          },
          "colorscale": {
           "diverging": [
            [
             0,
             "#8e0152"
            ],
            [
             0.1,
             "#c51b7d"
            ],
            [
             0.2,
             "#de77ae"
            ],
            [
             0.3,
             "#f1b6da"
            ],
            [
             0.4,
             "#fde0ef"
            ],
            [
             0.5,
             "#f7f7f7"
            ],
            [
             0.6,
             "#e6f5d0"
            ],
            [
             0.7,
             "#b8e186"
            ],
            [
             0.8,
             "#7fbc41"
            ],
            [
             0.9,
             "#4d9221"
            ],
            [
             1,
             "#276419"
            ]
           ],
           "sequential": [
            [
             0,
             "#0d0887"
            ],
            [
             0.1111111111111111,
             "#46039f"
            ],
            [
             0.2222222222222222,
             "#7201a8"
            ],
            [
             0.3333333333333333,
             "#9c179e"
            ],
            [
             0.4444444444444444,
             "#bd3786"
            ],
            [
             0.5555555555555556,
             "#d8576b"
            ],
            [
             0.6666666666666666,
             "#ed7953"
            ],
            [
             0.7777777777777778,
             "#fb9f3a"
            ],
            [
             0.8888888888888888,
             "#fdca26"
            ],
            [
             1,
             "#f0f921"
            ]
           ],
           "sequentialminus": [
            [
             0,
             "#0d0887"
            ],
            [
             0.1111111111111111,
             "#46039f"
            ],
            [
             0.2222222222222222,
             "#7201a8"
            ],
            [
             0.3333333333333333,
             "#9c179e"
            ],
            [
             0.4444444444444444,
             "#bd3786"
            ],
            [
             0.5555555555555556,
             "#d8576b"
            ],
            [
             0.6666666666666666,
             "#ed7953"
            ],
            [
             0.7777777777777778,
             "#fb9f3a"
            ],
            [
             0.8888888888888888,
             "#fdca26"
            ],
            [
             1,
             "#f0f921"
            ]
           ]
          },
          "colorway": [
           "#636efa",
           "#EF553B",
           "#00cc96",
           "#ab63fa",
           "#FFA15A",
           "#19d3f3",
           "#FF6692",
           "#B6E880",
           "#FF97FF",
           "#FECB52"
          ],
          "font": {
           "color": "#2a3f5f"
          },
          "geo": {
           "bgcolor": "white",
           "lakecolor": "white",
           "landcolor": "#E5ECF6",
           "showlakes": true,
           "showland": true,
           "subunitcolor": "white"
          },
          "hoverlabel": {
           "align": "left"
          },
          "hovermode": "closest",
          "mapbox": {
           "style": "light"
          },
          "paper_bgcolor": "white",
          "plot_bgcolor": "#E5ECF6",
          "polar": {
           "angularaxis": {
            "gridcolor": "white",
            "linecolor": "white",
            "ticks": ""
           },
           "bgcolor": "#E5ECF6",
           "radialaxis": {
            "gridcolor": "white",
            "linecolor": "white",
            "ticks": ""
           }
          },
          "scene": {
           "xaxis": {
            "backgroundcolor": "#E5ECF6",
            "gridcolor": "white",
            "gridwidth": 2,
            "linecolor": "white",
            "showbackground": true,
            "ticks": "",
            "zerolinecolor": "white"
           },
           "yaxis": {
            "backgroundcolor": "#E5ECF6",
            "gridcolor": "white",
            "gridwidth": 2,
            "linecolor": "white",
            "showbackground": true,
            "ticks": "",
            "zerolinecolor": "white"
           },
           "zaxis": {
            "backgroundcolor": "#E5ECF6",
            "gridcolor": "white",
            "gridwidth": 2,
            "linecolor": "white",
            "showbackground": true,
            "ticks": "",
            "zerolinecolor": "white"
           }
          },
          "shapedefaults": {
           "line": {
            "color": "#2a3f5f"
           }
          },
          "ternary": {
           "aaxis": {
            "gridcolor": "white",
            "linecolor": "white",
            "ticks": ""
           },
           "baxis": {
            "gridcolor": "white",
            "linecolor": "white",
            "ticks": ""
           },
           "bgcolor": "#E5ECF6",
           "caxis": {
            "gridcolor": "white",
            "linecolor": "white",
            "ticks": ""
           }
          },
          "title": {
           "x": 0.05
          },
          "xaxis": {
           "automargin": true,
           "gridcolor": "white",
           "linecolor": "white",
           "ticks": "",
           "title": {
            "standoff": 15
           },
           "zerolinecolor": "white",
           "zerolinewidth": 2
          },
          "yaxis": {
           "automargin": true,
           "gridcolor": "white",
           "linecolor": "white",
           "ticks": "",
           "title": {
            "standoff": 15
           },
           "zerolinecolor": "white",
           "zerolinewidth": 2
          }
         }
        },
        "title": {
         "text": "Stacked Bar Chart"
        },
        "xaxis": {
         "title": {
          "text": "X-axis"
         }
        },
        "yaxis": {
         "title": {
          "text": "Y-axis"
         }
        }
       }
      },
      "text/html": [
       "<div>                            <div id=\"99b20c33-9172-4620-adaf-7dc087efd376\" class=\"plotly-graph-div\" style=\"height:525px; width:100%;\"></div>            <script type=\"text/javascript\">                require([\"plotly\"], function(Plotly) {                    window.PLOTLYENV=window.PLOTLYENV || {};                                    if (document.getElementById(\"99b20c33-9172-4620-adaf-7dc087efd376\")) {                    Plotly.newPlot(                        \"99b20c33-9172-4620-adaf-7dc087efd376\",                        [{\"name\":\"Views\",\"x\":[\"ASUS\",\"Dell\",\"Google\",\"Lava\",\"Moto\",\"OnePlus\",\"Samsung\"],\"y\":[283451,192110,321738,168100,271683,408002,87286],\"type\":\"bar\"},{\"name\":\"Total Impressions\",\"x\":[\"ASUS\",\"Dell\",\"Google\",\"Lava\",\"Moto\",\"OnePlus\",\"Samsung\"],\"y\":[10757,6741,12871,9519,10591,10510,4151],\"type\":\"bar\"}],                        {\"barmode\":\"stack\",\"title\":{\"text\":\"Stacked Bar Chart\"},\"xaxis\":{\"title\":{\"text\":\"X-axis\"}},\"yaxis\":{\"title\":{\"text\":\"Y-axis\"}},\"template\":{\"data\":{\"histogram2dcontour\":[{\"type\":\"histogram2dcontour\",\"colorbar\":{\"outlinewidth\":0,\"ticks\":\"\"},\"colorscale\":[[0.0,\"#0d0887\"],[0.1111111111111111,\"#46039f\"],[0.2222222222222222,\"#7201a8\"],[0.3333333333333333,\"#9c179e\"],[0.4444444444444444,\"#bd3786\"],[0.5555555555555556,\"#d8576b\"],[0.6666666666666666,\"#ed7953\"],[0.7777777777777778,\"#fb9f3a\"],[0.8888888888888888,\"#fdca26\"],[1.0,\"#f0f921\"]]}],\"choropleth\":[{\"type\":\"choropleth\",\"colorbar\":{\"outlinewidth\":0,\"ticks\":\"\"}}],\"histogram2d\":[{\"type\":\"histogram2d\",\"colorbar\":{\"outlinewidth\":0,\"ticks\":\"\"},\"colorscale\":[[0.0,\"#0d0887\"],[0.1111111111111111,\"#46039f\"],[0.2222222222222222,\"#7201a8\"],[0.3333333333333333,\"#9c179e\"],[0.4444444444444444,\"#bd3786\"],[0.5555555555555556,\"#d8576b\"],[0.6666666666666666,\"#ed7953\"],[0.7777777777777778,\"#fb9f3a\"],[0.8888888888888888,\"#fdca26\"],[1.0,\"#f0f921\"]]}],\"heatmap\":[{\"type\":\"heatmap\",\"colorbar\":{\"outlinewidth\":0,\"ticks\":\"\"},\"colorscale\":[[0.0,\"#0d0887\"],[0.1111111111111111,\"#46039f\"],[0.2222222222222222,\"#7201a8\"],[0.3333333333333333,\"#9c179e\"],[0.4444444444444444,\"#bd3786\"],[0.5555555555555556,\"#d8576b\"],[0.6666666666666666,\"#ed7953\"],[0.7777777777777778,\"#fb9f3a\"],[0.8888888888888888,\"#fdca26\"],[1.0,\"#f0f921\"]]}],\"heatmapgl\":[{\"type\":\"heatmapgl\",\"colorbar\":{\"outlinewidth\":0,\"ticks\":\"\"},\"colorscale\":[[0.0,\"#0d0887\"],[0.1111111111111111,\"#46039f\"],[0.2222222222222222,\"#7201a8\"],[0.3333333333333333,\"#9c179e\"],[0.4444444444444444,\"#bd3786\"],[0.5555555555555556,\"#d8576b\"],[0.6666666666666666,\"#ed7953\"],[0.7777777777777778,\"#fb9f3a\"],[0.8888888888888888,\"#fdca26\"],[1.0,\"#f0f921\"]]}],\"contourcarpet\":[{\"type\":\"contourcarpet\",\"colorbar\":{\"outlinewidth\":0,\"ticks\":\"\"}}],\"contour\":[{\"type\":\"contour\",\"colorbar\":{\"outlinewidth\":0,\"ticks\":\"\"},\"colorscale\":[[0.0,\"#0d0887\"],[0.1111111111111111,\"#46039f\"],[0.2222222222222222,\"#7201a8\"],[0.3333333333333333,\"#9c179e\"],[0.4444444444444444,\"#bd3786\"],[0.5555555555555556,\"#d8576b\"],[0.6666666666666666,\"#ed7953\"],[0.7777777777777778,\"#fb9f3a\"],[0.8888888888888888,\"#fdca26\"],[1.0,\"#f0f921\"]]}],\"surface\":[{\"type\":\"surface\",\"colorbar\":{\"outlinewidth\":0,\"ticks\":\"\"},\"colorscale\":[[0.0,\"#0d0887\"],[0.1111111111111111,\"#46039f\"],[0.2222222222222222,\"#7201a8\"],[0.3333333333333333,\"#9c179e\"],[0.4444444444444444,\"#bd3786\"],[0.5555555555555556,\"#d8576b\"],[0.6666666666666666,\"#ed7953\"],[0.7777777777777778,\"#fb9f3a\"],[0.8888888888888888,\"#fdca26\"],[1.0,\"#f0f921\"]]}],\"mesh3d\":[{\"type\":\"mesh3d\",\"colorbar\":{\"outlinewidth\":0,\"ticks\":\"\"}}],\"scatter\":[{\"fillpattern\":{\"fillmode\":\"overlay\",\"size\":10,\"solidity\":0.2},\"type\":\"scatter\"}],\"parcoords\":[{\"type\":\"parcoords\",\"line\":{\"colorbar\":{\"outlinewidth\":0,\"ticks\":\"\"}}}],\"scatterpolargl\":[{\"type\":\"scatterpolargl\",\"marker\":{\"colorbar\":{\"outlinewidth\":0,\"ticks\":\"\"}}}],\"bar\":[{\"error_x\":{\"color\":\"#2a3f5f\"},\"error_y\":{\"color\":\"#2a3f5f\"},\"marker\":{\"line\":{\"color\":\"#E5ECF6\",\"width\":0.5},\"pattern\":{\"fillmode\":\"overlay\",\"size\":10,\"solidity\":0.2}},\"type\":\"bar\"}],\"scattergeo\":[{\"type\":\"scattergeo\",\"marker\":{\"colorbar\":{\"outlinewidth\":0,\"ticks\":\"\"}}}],\"scatterpolar\":[{\"type\":\"scatterpolar\",\"marker\":{\"colorbar\":{\"outlinewidth\":0,\"ticks\":\"\"}}}],\"histogram\":[{\"marker\":{\"pattern\":{\"fillmode\":\"overlay\",\"size\":10,\"solidity\":0.2}},\"type\":\"histogram\"}],\"scattergl\":[{\"type\":\"scattergl\",\"marker\":{\"colorbar\":{\"outlinewidth\":0,\"ticks\":\"\"}}}],\"scatter3d\":[{\"type\":\"scatter3d\",\"line\":{\"colorbar\":{\"outlinewidth\":0,\"ticks\":\"\"}},\"marker\":{\"colorbar\":{\"outlinewidth\":0,\"ticks\":\"\"}}}],\"scattermapbox\":[{\"type\":\"scattermapbox\",\"marker\":{\"colorbar\":{\"outlinewidth\":0,\"ticks\":\"\"}}}],\"scatterternary\":[{\"type\":\"scatterternary\",\"marker\":{\"colorbar\":{\"outlinewidth\":0,\"ticks\":\"\"}}}],\"scattercarpet\":[{\"type\":\"scattercarpet\",\"marker\":{\"colorbar\":{\"outlinewidth\":0,\"ticks\":\"\"}}}],\"carpet\":[{\"aaxis\":{\"endlinecolor\":\"#2a3f5f\",\"gridcolor\":\"white\",\"linecolor\":\"white\",\"minorgridcolor\":\"white\",\"startlinecolor\":\"#2a3f5f\"},\"baxis\":{\"endlinecolor\":\"#2a3f5f\",\"gridcolor\":\"white\",\"linecolor\":\"white\",\"minorgridcolor\":\"white\",\"startlinecolor\":\"#2a3f5f\"},\"type\":\"carpet\"}],\"table\":[{\"cells\":{\"fill\":{\"color\":\"#EBF0F8\"},\"line\":{\"color\":\"white\"}},\"header\":{\"fill\":{\"color\":\"#C8D4E3\"},\"line\":{\"color\":\"white\"}},\"type\":\"table\"}],\"barpolar\":[{\"marker\":{\"line\":{\"color\":\"#E5ECF6\",\"width\":0.5},\"pattern\":{\"fillmode\":\"overlay\",\"size\":10,\"solidity\":0.2}},\"type\":\"barpolar\"}],\"pie\":[{\"automargin\":true,\"type\":\"pie\"}]},\"layout\":{\"autotypenumbers\":\"strict\",\"colorway\":[\"#636efa\",\"#EF553B\",\"#00cc96\",\"#ab63fa\",\"#FFA15A\",\"#19d3f3\",\"#FF6692\",\"#B6E880\",\"#FF97FF\",\"#FECB52\"],\"font\":{\"color\":\"#2a3f5f\"},\"hovermode\":\"closest\",\"hoverlabel\":{\"align\":\"left\"},\"paper_bgcolor\":\"white\",\"plot_bgcolor\":\"#E5ECF6\",\"polar\":{\"bgcolor\":\"#E5ECF6\",\"angularaxis\":{\"gridcolor\":\"white\",\"linecolor\":\"white\",\"ticks\":\"\"},\"radialaxis\":{\"gridcolor\":\"white\",\"linecolor\":\"white\",\"ticks\":\"\"}},\"ternary\":{\"bgcolor\":\"#E5ECF6\",\"aaxis\":{\"gridcolor\":\"white\",\"linecolor\":\"white\",\"ticks\":\"\"},\"baxis\":{\"gridcolor\":\"white\",\"linecolor\":\"white\",\"ticks\":\"\"},\"caxis\":{\"gridcolor\":\"white\",\"linecolor\":\"white\",\"ticks\":\"\"}},\"coloraxis\":{\"colorbar\":{\"outlinewidth\":0,\"ticks\":\"\"}},\"colorscale\":{\"sequential\":[[0.0,\"#0d0887\"],[0.1111111111111111,\"#46039f\"],[0.2222222222222222,\"#7201a8\"],[0.3333333333333333,\"#9c179e\"],[0.4444444444444444,\"#bd3786\"],[0.5555555555555556,\"#d8576b\"],[0.6666666666666666,\"#ed7953\"],[0.7777777777777778,\"#fb9f3a\"],[0.8888888888888888,\"#fdca26\"],[1.0,\"#f0f921\"]],\"sequentialminus\":[[0.0,\"#0d0887\"],[0.1111111111111111,\"#46039f\"],[0.2222222222222222,\"#7201a8\"],[0.3333333333333333,\"#9c179e\"],[0.4444444444444444,\"#bd3786\"],[0.5555555555555556,\"#d8576b\"],[0.6666666666666666,\"#ed7953\"],[0.7777777777777778,\"#fb9f3a\"],[0.8888888888888888,\"#fdca26\"],[1.0,\"#f0f921\"]],\"diverging\":[[0,\"#8e0152\"],[0.1,\"#c51b7d\"],[0.2,\"#de77ae\"],[0.3,\"#f1b6da\"],[0.4,\"#fde0ef\"],[0.5,\"#f7f7f7\"],[0.6,\"#e6f5d0\"],[0.7,\"#b8e186\"],[0.8,\"#7fbc41\"],[0.9,\"#4d9221\"],[1,\"#276419\"]]},\"xaxis\":{\"gridcolor\":\"white\",\"linecolor\":\"white\",\"ticks\":\"\",\"title\":{\"standoff\":15},\"zerolinecolor\":\"white\",\"automargin\":true,\"zerolinewidth\":2},\"yaxis\":{\"gridcolor\":\"white\",\"linecolor\":\"white\",\"ticks\":\"\",\"title\":{\"standoff\":15},\"zerolinecolor\":\"white\",\"automargin\":true,\"zerolinewidth\":2},\"scene\":{\"xaxis\":{\"backgroundcolor\":\"#E5ECF6\",\"gridcolor\":\"white\",\"linecolor\":\"white\",\"showbackground\":true,\"ticks\":\"\",\"zerolinecolor\":\"white\",\"gridwidth\":2},\"yaxis\":{\"backgroundcolor\":\"#E5ECF6\",\"gridcolor\":\"white\",\"linecolor\":\"white\",\"showbackground\":true,\"ticks\":\"\",\"zerolinecolor\":\"white\",\"gridwidth\":2},\"zaxis\":{\"backgroundcolor\":\"#E5ECF6\",\"gridcolor\":\"white\",\"linecolor\":\"white\",\"showbackground\":true,\"ticks\":\"\",\"zerolinecolor\":\"white\",\"gridwidth\":2}},\"shapedefaults\":{\"line\":{\"color\":\"#2a3f5f\"}},\"annotationdefaults\":{\"arrowcolor\":\"#2a3f5f\",\"arrowhead\":0,\"arrowwidth\":1},\"geo\":{\"bgcolor\":\"white\",\"landcolor\":\"#E5ECF6\",\"subunitcolor\":\"white\",\"showland\":true,\"showlakes\":true,\"lakecolor\":\"white\"},\"title\":{\"x\":0.05},\"mapbox\":{\"style\":\"light\"}}}},                        {\"responsive\": true}                    ).then(function(){\n",
       "                            \n",
       "var gd = document.getElementById('99b20c33-9172-4620-adaf-7dc087efd376');\n",
       "var x = new MutationObserver(function (mutations, observer) {{\n",
       "        var display = window.getComputedStyle(gd).display;\n",
       "        if (!display || display === 'none') {{\n",
       "            console.log([gd, 'removed!']);\n",
       "            Plotly.purge(gd);\n",
       "            observer.disconnect();\n",
       "        }}\n",
       "}});\n",
       "\n",
       "// Listen for the removal of the full notebook cells\n",
       "var notebookContainer = gd.closest('#notebook-container');\n",
       "if (notebookContainer) {{\n",
       "    x.observe(notebookContainer, {childList: true});\n",
       "}}\n",
       "\n",
       "// Listen for the clearing of the current output cell\n",
       "var outputEl = gd.closest('.output');\n",
       "if (outputEl) {{\n",
       "    x.observe(outputEl, {childList: true});\n",
       "}}\n",
       "\n",
       "                        })                };                });            </script>        </div>"
      ]
     },
     "metadata": {},
     "output_type": "display_data"
    }
   ],
   "source": [
    "#fig = px.bar(df_group, x='brands', y='view_count', labels={'brands': 'Brands', 'view_count': 'Total View Count'})\n",
    "\n",
    "\n",
    "\n",
    "trace1 = go.Bar(x=df_group['brands'], y=df_group['view_count'], name='Views')\n",
    "trace2 = go.Bar(x=df_group['brands'], y=df_group['total impressions'], name='Total Impressions')\n",
    "\n",
    "layout = go.Layout(\n",
    "    title='Stacked Bar Chart',\n",
    "    xaxis=dict(title='X-axis'),\n",
    "    yaxis=dict(title='Y-axis'),\n",
    "    barmode='stack'\n",
    ")\n",
    "\n",
    "fig = go.Figure(data=[trace1, trace2], layout=layout)\n",
    "fig.show()"
   ]
  },
  {
   "cell_type": "markdown",
   "id": "f6289614",
   "metadata": {},
   "source": [
    "## Average views per day for each video"
   ]
  },
  {
   "cell_type": "code",
   "execution_count": 40,
   "id": "9d20e68d",
   "metadata": {},
   "outputs": [],
   "source": [
    "import datetime\n",
    "df['published_at'] = pd.to_datetime(df['published_at'], format='%B %d, %Y')\n",
    "df['NoOf_days'] = (datetime.date.today() - df['published_at'].dt.date).dt.days"
   ]
  },
  {
   "cell_type": "code",
   "execution_count": 41,
   "id": "772da1d7",
   "metadata": {},
   "outputs": [
    {
     "data": {
      "text/html": [
       "<div>\n",
       "<style scoped>\n",
       "    .dataframe tbody tr th:only-of-type {\n",
       "        vertical-align: middle;\n",
       "    }\n",
       "\n",
       "    .dataframe tbody tr th {\n",
       "        vertical-align: top;\n",
       "    }\n",
       "\n",
       "    .dataframe thead th {\n",
       "        text-align: right;\n",
       "    }\n",
       "</style>\n",
       "<table border=\"1\" class=\"dataframe\">\n",
       "  <thead>\n",
       "    <tr style=\"text-align: right;\">\n",
       "      <th></th>\n",
       "      <th>Unnamed: 0</th>\n",
       "      <th>channel_id</th>\n",
       "      <th>video_id</th>\n",
       "      <th>title</th>\n",
       "      <th>url</th>\n",
       "      <th>description</th>\n",
       "      <th>duration</th>\n",
       "      <th>published_at</th>\n",
       "      <th>thumbnails</th>\n",
       "      <th>view_count</th>\n",
       "      <th>like_count</th>\n",
       "      <th>comment_count</th>\n",
       "      <th>brands</th>\n",
       "      <th>NoOf_days</th>\n",
       "    </tr>\n",
       "  </thead>\n",
       "  <tbody>\n",
       "    <tr>\n",
       "      <th>0</th>\n",
       "      <td>0</td>\n",
       "      <td>UCvpfclapgcuJo0M_x65pfRw</td>\n",
       "      <td>bkkIvu1y0LU</td>\n",
       "      <td>Samsung Galaxy F54 First Impressions!</td>\n",
       "      <td>https://www.youtube.com/watch?v=bkkIvu1y0LU</td>\n",
       "      <td>Samsung has just launched the new Galaxy F54 a...</td>\n",
       "      <td>05:28:00</td>\n",
       "      <td>2023-06-06</td>\n",
       "      <td>https://i.ytimg.com/vi_webp/bkkIvu1y0LU/maxres...</td>\n",
       "      <td>87286</td>\n",
       "      <td>3476</td>\n",
       "      <td>675</td>\n",
       "      <td>Samsung</td>\n",
       "      <td>14</td>\n",
       "    </tr>\n",
       "    <tr>\n",
       "      <th>1</th>\n",
       "      <td>1</td>\n",
       "      <td>UCvpfclapgcuJo0M_x65pfRw</td>\n",
       "      <td>J3igzbaOF_M</td>\n",
       "      <td>7 Dangerous Android Settings You Need to Turn ...</td>\n",
       "      <td>https://www.youtube.com/watch?v=J3igzbaOF_M</td>\n",
       "      <td>If you are an Android user, this video is a mu...</td>\n",
       "      <td>04:18:00</td>\n",
       "      <td>2023-06-03</td>\n",
       "      <td>https://i.ytimg.com/vi_webp/J3igzbaOF_M/maxres...</td>\n",
       "      <td>217477</td>\n",
       "      <td>12693</td>\n",
       "      <td>373</td>\n",
       "      <td>Other</td>\n",
       "      <td>17</td>\n",
       "    </tr>\n",
       "    <tr>\n",
       "      <th>2</th>\n",
       "      <td>2</td>\n",
       "      <td>UCvpfclapgcuJo0M_x65pfRw</td>\n",
       "      <td>LuThmQCAnZc</td>\n",
       "      <td>QLED vs LED TV at 30K: Don't Make This Mistake!</td>\n",
       "      <td>https://www.youtube.com/watch?v=LuThmQCAnZc</td>\n",
       "      <td>Everyone has a perception that QLED TVs are ex...</td>\n",
       "      <td>05:29:00</td>\n",
       "      <td>2023-05-30</td>\n",
       "      <td>https://i.ytimg.com/vi_webp/LuThmQCAnZc/maxres...</td>\n",
       "      <td>124445</td>\n",
       "      <td>4452</td>\n",
       "      <td>295</td>\n",
       "      <td>Other</td>\n",
       "      <td>21</td>\n",
       "    </tr>\n",
       "    <tr>\n",
       "      <th>3</th>\n",
       "      <td>3</td>\n",
       "      <td>UCvpfclapgcuJo0M_x65pfRw</td>\n",
       "      <td>dPLj_lId_zY</td>\n",
       "      <td>Lava Agni 2 Review: The Good, The Bad, The Best!</td>\n",
       "      <td>https://www.youtube.com/watch?v=dPLj_lId_zY</td>\n",
       "      <td>The Lava Agni 2 is here and this is one hyped ...</td>\n",
       "      <td>07:31:00</td>\n",
       "      <td>2023-05-26</td>\n",
       "      <td>https://i.ytimg.com/vi_webp/dPLj_lId_zY/maxres...</td>\n",
       "      <td>168100</td>\n",
       "      <td>8885</td>\n",
       "      <td>634</td>\n",
       "      <td>Lava</td>\n",
       "      <td>25</td>\n",
       "    </tr>\n",
       "    <tr>\n",
       "      <th>4</th>\n",
       "      <td>4</td>\n",
       "      <td>UCvpfclapgcuJo0M_x65pfRw</td>\n",
       "      <td>QOm4okp1J5c</td>\n",
       "      <td>Moto Edge 40: A Good Option Under 30K?</td>\n",
       "      <td>https://www.youtube.com/watch?v=QOm4okp1J5c</td>\n",
       "      <td>Motorola has launched the new Edge 40 and this...</td>\n",
       "      <td>05:58:00</td>\n",
       "      <td>2023-05-23</td>\n",
       "      <td>https://i.ytimg.com/vi_webp/QOm4okp1J5c/maxres...</td>\n",
       "      <td>271683</td>\n",
       "      <td>9591</td>\n",
       "      <td>1000</td>\n",
       "      <td>Moto</td>\n",
       "      <td>28</td>\n",
       "    </tr>\n",
       "    <tr>\n",
       "      <th>5</th>\n",
       "      <td>5</td>\n",
       "      <td>UCvpfclapgcuJo0M_x65pfRw</td>\n",
       "      <td>0YoPpEIS3o4</td>\n",
       "      <td>8 Super Useful Gadgets for Students!</td>\n",
       "      <td>https://www.youtube.com/watch?v=0YoPpEIS3o4</td>\n",
       "      <td>The best gadgets for students! These are 8 sup...</td>\n",
       "      <td>05:09:00</td>\n",
       "      <td>2023-05-20</td>\n",
       "      <td>https://i.ytimg.com/vi_webp/0YoPpEIS3o4/maxres...</td>\n",
       "      <td>370521</td>\n",
       "      <td>13169</td>\n",
       "      <td>481</td>\n",
       "      <td>Other</td>\n",
       "      <td>31</td>\n",
       "    </tr>\n",
       "    <tr>\n",
       "      <th>6</th>\n",
       "      <td>6</td>\n",
       "      <td>UCvpfclapgcuJo0M_x65pfRw</td>\n",
       "      <td>MDigRlLPlgc</td>\n",
       "      <td>ASUS ROG Strix G18: Core i9 + 4070 at Great Pr...</td>\n",
       "      <td>https://www.youtube.com/watch?v=MDigRlLPlgc</td>\n",
       "      <td>ASUS has launched of number of new ROG laptops...</td>\n",
       "      <td>05:33:00</td>\n",
       "      <td>2023-05-17</td>\n",
       "      <td>https://i.ytimg.com/vi_webp/MDigRlLPlgc/maxres...</td>\n",
       "      <td>77679</td>\n",
       "      <td>2743</td>\n",
       "      <td>208</td>\n",
       "      <td>ASUS</td>\n",
       "      <td>34</td>\n",
       "    </tr>\n",
       "    <tr>\n",
       "      <th>7</th>\n",
       "      <td>7</td>\n",
       "      <td>UCvpfclapgcuJo0M_x65pfRw</td>\n",
       "      <td>Q65Fn1FZwdE</td>\n",
       "      <td>Dell G16 (2023): High Performance, Better Price!</td>\n",
       "      <td>https://www.youtube.com/watch?v=Q65Fn1FZwdE</td>\n",
       "      <td>The new Dell G16 7630 has arrived and it bring...</td>\n",
       "      <td>05:03:00</td>\n",
       "      <td>2023-05-15</td>\n",
       "      <td>https://i.ytimg.com/vi_webp/Q65Fn1FZwdE/maxres...</td>\n",
       "      <td>103402</td>\n",
       "      <td>3607</td>\n",
       "      <td>285</td>\n",
       "      <td>Dell</td>\n",
       "      <td>36</td>\n",
       "    </tr>\n",
       "    <tr>\n",
       "      <th>8</th>\n",
       "      <td>8</td>\n",
       "      <td>UCvpfclapgcuJo0M_x65pfRw</td>\n",
       "      <td>lUDozITit6w</td>\n",
       "      <td>Pixel 7a: Google Fixed It!</td>\n",
       "      <td>https://www.youtube.com/watch?v=lUDozITit6w</td>\n",
       "      <td>Google has just launched the Pixel 7a and this...</td>\n",
       "      <td>06:31:00</td>\n",
       "      <td>2023-05-10</td>\n",
       "      <td>https://i.ytimg.com/vi_webp/lUDozITit6w/maxres...</td>\n",
       "      <td>321738</td>\n",
       "      <td>11271</td>\n",
       "      <td>1600</td>\n",
       "      <td>Google</td>\n",
       "      <td>41</td>\n",
       "    </tr>\n",
       "    <tr>\n",
       "      <th>9</th>\n",
       "      <td>9</td>\n",
       "      <td>UCvpfclapgcuJo0M_x65pfRw</td>\n",
       "      <td>0d5vOvvP8qk</td>\n",
       "      <td>POCO F5: Snapdragon 7+ Gen 2 is ðŸ”¥</td>\n",
       "      <td>https://www.youtube.com/watch?v=0d5vOvvP8qk</td>\n",
       "      <td>The new POCO F5 is here and it's the first pho...</td>\n",
       "      <td>06:12:00</td>\n",
       "      <td>2023-05-09</td>\n",
       "      <td>https://i.ytimg.com/vi_webp/0d5vOvvP8qk/maxres...</td>\n",
       "      <td>310079</td>\n",
       "      <td>10944</td>\n",
       "      <td>1400</td>\n",
       "      <td>Other</td>\n",
       "      <td>42</td>\n",
       "    </tr>\n",
       "    <tr>\n",
       "      <th>10</th>\n",
       "      <td>10</td>\n",
       "      <td>UCvpfclapgcuJo0M_x65pfRw</td>\n",
       "      <td>JdgWV-e-RR8</td>\n",
       "      <td>ASUS Zenbook Pro 14 Duo (2023): Dual Screens G...</td>\n",
       "      <td>https://www.youtube.com/watch?v=JdgWV-e-RR8</td>\n",
       "      <td>This is the new ASUS Zenbook Pro 14 Duo OLED 2...</td>\n",
       "      <td>05:53:00</td>\n",
       "      <td>2023-05-08</td>\n",
       "      <td>https://i.ytimg.com/vi_webp/JdgWV-e-RR8/maxres...</td>\n",
       "      <td>85160</td>\n",
       "      <td>3031</td>\n",
       "      <td>123</td>\n",
       "      <td>ASUS</td>\n",
       "      <td>43</td>\n",
       "    </tr>\n",
       "    <tr>\n",
       "      <th>11</th>\n",
       "      <td>11</td>\n",
       "      <td>UCvpfclapgcuJo0M_x65pfRw</td>\n",
       "      <td>3MZ6aTpFrE0</td>\n",
       "      <td>15 Quality Deals on Flipkart &amp; Amazon Right Now!</td>\n",
       "      <td>https://www.youtube.com/watch?v=3MZ6aTpFrE0</td>\n",
       "      <td>In this video, we show you 15 quality deals on...</td>\n",
       "      <td>04:56:00</td>\n",
       "      <td>2023-05-04</td>\n",
       "      <td>https://i.ytimg.com/vi_webp/3MZ6aTpFrE0/maxres...</td>\n",
       "      <td>408625</td>\n",
       "      <td>12167</td>\n",
       "      <td>957</td>\n",
       "      <td>Other</td>\n",
       "      <td>47</td>\n",
       "    </tr>\n",
       "    <tr>\n",
       "      <th>12</th>\n",
       "      <td>12</td>\n",
       "      <td>UCvpfclapgcuJo0M_x65pfRw</td>\n",
       "      <td>Gb_i_W7Ko3Y</td>\n",
       "      <td>The Best Phone Under â‚¹20,000!</td>\n",
       "      <td>https://www.youtube.com/watch?v=Gb_i_W7Ko3Y</td>\n",
       "      <td>This is not your usual best phones video, wher...</td>\n",
       "      <td>04:48:00</td>\n",
       "      <td>2023-05-03</td>\n",
       "      <td>https://i.ytimg.com/vi_webp/Gb_i_W7Ko3Y/maxres...</td>\n",
       "      <td>1227866</td>\n",
       "      <td>33642</td>\n",
       "      <td>1800</td>\n",
       "      <td>Other</td>\n",
       "      <td>48</td>\n",
       "    </tr>\n",
       "    <tr>\n",
       "      <th>13</th>\n",
       "      <td>13</td>\n",
       "      <td>UCvpfclapgcuJo0M_x65pfRw</td>\n",
       "      <td>YOIw5r0qEGo</td>\n",
       "      <td>Tecno Phantom V Fold: Finally, An Affordable F...</td>\n",
       "      <td>https://www.youtube.com/watch?v=YOIw5r0qEGo</td>\n",
       "      <td>Tecno recently launched its first foldable pho...</td>\n",
       "      <td>06:07:00</td>\n",
       "      <td>2023-04-29</td>\n",
       "      <td>https://i.ytimg.com/vi_webp/YOIw5r0qEGo/maxres...</td>\n",
       "      <td>102182</td>\n",
       "      <td>3258</td>\n",
       "      <td>206</td>\n",
       "      <td>Other</td>\n",
       "      <td>52</td>\n",
       "    </tr>\n",
       "    <tr>\n",
       "      <th>14</th>\n",
       "      <td>14</td>\n",
       "      <td>UCvpfclapgcuJo0M_x65pfRw</td>\n",
       "      <td>aURzYhwsyHg</td>\n",
       "      <td>OnePlus Pad: Impressive Android Tablet!</td>\n",
       "      <td>https://www.youtube.com/watch?v=aURzYhwsyHg</td>\n",
       "      <td>OnePlus' first tablet is here, the OnePlus Pad...</td>\n",
       "      <td>06:55:00</td>\n",
       "      <td>2023-04-28</td>\n",
       "      <td>https://i.ytimg.com/vi_webp/aURzYhwsyHg/maxres...</td>\n",
       "      <td>408002</td>\n",
       "      <td>9690</td>\n",
       "      <td>820</td>\n",
       "      <td>OnePlus</td>\n",
       "      <td>53</td>\n",
       "    </tr>\n",
       "    <tr>\n",
       "      <th>15</th>\n",
       "      <td>15</td>\n",
       "      <td>UCvpfclapgcuJo0M_x65pfRw</td>\n",
       "      <td>KBTe0kJM1QY</td>\n",
       "      <td>7 Awesome Gadgets for Home!</td>\n",
       "      <td>https://www.youtube.com/watch?v=KBTe0kJM1QY</td>\n",
       "      <td>Check out the free Ice Cream Photo Editor here...</td>\n",
       "      <td>05:24:00</td>\n",
       "      <td>2023-04-26</td>\n",
       "      <td>https://i.ytimg.com/vi_webp/KBTe0kJM1QY/maxres...</td>\n",
       "      <td>683052</td>\n",
       "      <td>23050</td>\n",
       "      <td>354</td>\n",
       "      <td>Other</td>\n",
       "      <td>55</td>\n",
       "    </tr>\n",
       "    <tr>\n",
       "      <th>16</th>\n",
       "      <td>16</td>\n",
       "      <td>UCvpfclapgcuJo0M_x65pfRw</td>\n",
       "      <td>r4yegw_rgrc</td>\n",
       "      <td>ASUS ZenBook S13 OLED: The Ultra Light Windows...</td>\n",
       "      <td>https://www.youtube.com/watch?v=r4yegw_rgrc</td>\n",
       "      <td>The brand new ASUS Zenbook S13 OLED is here an...</td>\n",
       "      <td>05:14:00</td>\n",
       "      <td>2023-04-21</td>\n",
       "      <td>https://i.ytimg.com/vi_webp/r4yegw_rgrc/maxres...</td>\n",
       "      <td>120612</td>\n",
       "      <td>4400</td>\n",
       "      <td>252</td>\n",
       "      <td>ASUS</td>\n",
       "      <td>60</td>\n",
       "    </tr>\n",
       "    <tr>\n",
       "      <th>17</th>\n",
       "      <td>17</td>\n",
       "      <td>UCvpfclapgcuJo0M_x65pfRw</td>\n",
       "      <td>3i0HG5kdAno</td>\n",
       "      <td>The Best Laptop Deal for Students!</td>\n",
       "      <td>https://www.youtube.com/watch?v=3i0HG5kdAno</td>\n",
       "      <td>How about a laptop deal under 35,000 rupees th...</td>\n",
       "      <td>04:47:00</td>\n",
       "      <td>2023-04-19</td>\n",
       "      <td>https://i.ytimg.com/vi_webp/3i0HG5kdAno/maxres...</td>\n",
       "      <td>289383</td>\n",
       "      <td>8714</td>\n",
       "      <td>509</td>\n",
       "      <td>Other</td>\n",
       "      <td>62</td>\n",
       "    </tr>\n",
       "    <tr>\n",
       "      <th>18</th>\n",
       "      <td>18</td>\n",
       "      <td>UCvpfclapgcuJo0M_x65pfRw</td>\n",
       "      <td>BrtEhtO7mMk</td>\n",
       "      <td>The Best Phone Deal Right Now!</td>\n",
       "      <td>https://www.youtube.com/watch?v=BrtEhtO7mMk</td>\n",
       "      <td>A flagship phone from last year with Snapdrago...</td>\n",
       "      <td>05:10:00</td>\n",
       "      <td>2023-04-16</td>\n",
       "      <td>https://i.ytimg.com/vi_webp/BrtEhtO7mMk/maxres...</td>\n",
       "      <td>562316</td>\n",
       "      <td>17036</td>\n",
       "      <td>1100</td>\n",
       "      <td>Other</td>\n",
       "      <td>65</td>\n",
       "    </tr>\n",
       "    <tr>\n",
       "      <th>19</th>\n",
       "      <td>19</td>\n",
       "      <td>UCvpfclapgcuJo0M_x65pfRw</td>\n",
       "      <td>eOT8GyDx9EY</td>\n",
       "      <td>Dell Inspiron 16 2-in-1 (2023): Really Good Ha...</td>\n",
       "      <td>https://www.youtube.com/watch?v=eOT8GyDx9EY</td>\n",
       "      <td>The all new Dell Inspiron 16 7630 is here and ...</td>\n",
       "      <td>05:29:00</td>\n",
       "      <td>2023-04-14</td>\n",
       "      <td>https://i.ytimg.com/vi_webp/eOT8GyDx9EY/maxres...</td>\n",
       "      <td>88708</td>\n",
       "      <td>2662</td>\n",
       "      <td>187</td>\n",
       "      <td>Dell</td>\n",
       "      <td>67</td>\n",
       "    </tr>\n",
       "  </tbody>\n",
       "</table>\n",
       "</div>"
      ],
      "text/plain": [
       "    Unnamed: 0                channel_id     video_id  \\\n",
       "0            0  UCvpfclapgcuJo0M_x65pfRw  bkkIvu1y0LU   \n",
       "1            1  UCvpfclapgcuJo0M_x65pfRw  J3igzbaOF_M   \n",
       "2            2  UCvpfclapgcuJo0M_x65pfRw  LuThmQCAnZc   \n",
       "3            3  UCvpfclapgcuJo0M_x65pfRw  dPLj_lId_zY   \n",
       "4            4  UCvpfclapgcuJo0M_x65pfRw  QOm4okp1J5c   \n",
       "5            5  UCvpfclapgcuJo0M_x65pfRw  0YoPpEIS3o4   \n",
       "6            6  UCvpfclapgcuJo0M_x65pfRw  MDigRlLPlgc   \n",
       "7            7  UCvpfclapgcuJo0M_x65pfRw  Q65Fn1FZwdE   \n",
       "8            8  UCvpfclapgcuJo0M_x65pfRw  lUDozITit6w   \n",
       "9            9  UCvpfclapgcuJo0M_x65pfRw  0d5vOvvP8qk   \n",
       "10          10  UCvpfclapgcuJo0M_x65pfRw  JdgWV-e-RR8   \n",
       "11          11  UCvpfclapgcuJo0M_x65pfRw  3MZ6aTpFrE0   \n",
       "12          12  UCvpfclapgcuJo0M_x65pfRw  Gb_i_W7Ko3Y   \n",
       "13          13  UCvpfclapgcuJo0M_x65pfRw  YOIw5r0qEGo   \n",
       "14          14  UCvpfclapgcuJo0M_x65pfRw  aURzYhwsyHg   \n",
       "15          15  UCvpfclapgcuJo0M_x65pfRw  KBTe0kJM1QY   \n",
       "16          16  UCvpfclapgcuJo0M_x65pfRw  r4yegw_rgrc   \n",
       "17          17  UCvpfclapgcuJo0M_x65pfRw  3i0HG5kdAno   \n",
       "18          18  UCvpfclapgcuJo0M_x65pfRw  BrtEhtO7mMk   \n",
       "19          19  UCvpfclapgcuJo0M_x65pfRw  eOT8GyDx9EY   \n",
       "\n",
       "                                                title  \\\n",
       "0               Samsung Galaxy F54 First Impressions!   \n",
       "1   7 Dangerous Android Settings You Need to Turn ...   \n",
       "2     QLED vs LED TV at 30K: Don't Make This Mistake!   \n",
       "3    Lava Agni 2 Review: The Good, The Bad, The Best!   \n",
       "4              Moto Edge 40: A Good Option Under 30K?   \n",
       "5                8 Super Useful Gadgets for Students!   \n",
       "6   ASUS ROG Strix G18: Core i9 + 4070 at Great Pr...   \n",
       "7    Dell G16 (2023): High Performance, Better Price!   \n",
       "8                          Pixel 7a: Google Fixed It!   \n",
       "9                POCO F5: Snapdragon 7+ Gen 2 is ðŸ”¥   \n",
       "10  ASUS Zenbook Pro 14 Duo (2023): Dual Screens G...   \n",
       "11   15 Quality Deals on Flipkart & Amazon Right Now!   \n",
       "12                    The Best Phone Under â‚¹20,000!   \n",
       "13  Tecno Phantom V Fold: Finally, An Affordable F...   \n",
       "14            OnePlus Pad: Impressive Android Tablet!   \n",
       "15                        7 Awesome Gadgets for Home!   \n",
       "16  ASUS ZenBook S13 OLED: The Ultra Light Windows...   \n",
       "17                 The Best Laptop Deal for Students!   \n",
       "18                     The Best Phone Deal Right Now!   \n",
       "19  Dell Inspiron 16 2-in-1 (2023): Really Good Ha...   \n",
       "\n",
       "                                            url  \\\n",
       "0   https://www.youtube.com/watch?v=bkkIvu1y0LU   \n",
       "1   https://www.youtube.com/watch?v=J3igzbaOF_M   \n",
       "2   https://www.youtube.com/watch?v=LuThmQCAnZc   \n",
       "3   https://www.youtube.com/watch?v=dPLj_lId_zY   \n",
       "4   https://www.youtube.com/watch?v=QOm4okp1J5c   \n",
       "5   https://www.youtube.com/watch?v=0YoPpEIS3o4   \n",
       "6   https://www.youtube.com/watch?v=MDigRlLPlgc   \n",
       "7   https://www.youtube.com/watch?v=Q65Fn1FZwdE   \n",
       "8   https://www.youtube.com/watch?v=lUDozITit6w   \n",
       "9   https://www.youtube.com/watch?v=0d5vOvvP8qk   \n",
       "10  https://www.youtube.com/watch?v=JdgWV-e-RR8   \n",
       "11  https://www.youtube.com/watch?v=3MZ6aTpFrE0   \n",
       "12  https://www.youtube.com/watch?v=Gb_i_W7Ko3Y   \n",
       "13  https://www.youtube.com/watch?v=YOIw5r0qEGo   \n",
       "14  https://www.youtube.com/watch?v=aURzYhwsyHg   \n",
       "15  https://www.youtube.com/watch?v=KBTe0kJM1QY   \n",
       "16  https://www.youtube.com/watch?v=r4yegw_rgrc   \n",
       "17  https://www.youtube.com/watch?v=3i0HG5kdAno   \n",
       "18  https://www.youtube.com/watch?v=BrtEhtO7mMk   \n",
       "19  https://www.youtube.com/watch?v=eOT8GyDx9EY   \n",
       "\n",
       "                                          description  duration published_at  \\\n",
       "0   Samsung has just launched the new Galaxy F54 a...  05:28:00   2023-06-06   \n",
       "1   If you are an Android user, this video is a mu...  04:18:00   2023-06-03   \n",
       "2   Everyone has a perception that QLED TVs are ex...  05:29:00   2023-05-30   \n",
       "3   The Lava Agni 2 is here and this is one hyped ...  07:31:00   2023-05-26   \n",
       "4   Motorola has launched the new Edge 40 and this...  05:58:00   2023-05-23   \n",
       "5   The best gadgets for students! These are 8 sup...  05:09:00   2023-05-20   \n",
       "6   ASUS has launched of number of new ROG laptops...  05:33:00   2023-05-17   \n",
       "7   The new Dell G16 7630 has arrived and it bring...  05:03:00   2023-05-15   \n",
       "8   Google has just launched the Pixel 7a and this...  06:31:00   2023-05-10   \n",
       "9   The new POCO F5 is here and it's the first pho...  06:12:00   2023-05-09   \n",
       "10  This is the new ASUS Zenbook Pro 14 Duo OLED 2...  05:53:00   2023-05-08   \n",
       "11  In this video, we show you 15 quality deals on...  04:56:00   2023-05-04   \n",
       "12  This is not your usual best phones video, wher...  04:48:00   2023-05-03   \n",
       "13  Tecno recently launched its first foldable pho...  06:07:00   2023-04-29   \n",
       "14  OnePlus' first tablet is here, the OnePlus Pad...  06:55:00   2023-04-28   \n",
       "15  Check out the free Ice Cream Photo Editor here...  05:24:00   2023-04-26   \n",
       "16  The brand new ASUS Zenbook S13 OLED is here an...  05:14:00   2023-04-21   \n",
       "17  How about a laptop deal under 35,000 rupees th...  04:47:00   2023-04-19   \n",
       "18  A flagship phone from last year with Snapdrago...  05:10:00   2023-04-16   \n",
       "19  The all new Dell Inspiron 16 7630 is here and ...  05:29:00   2023-04-14   \n",
       "\n",
       "                                           thumbnails  view_count  like_count  \\\n",
       "0   https://i.ytimg.com/vi_webp/bkkIvu1y0LU/maxres...       87286        3476   \n",
       "1   https://i.ytimg.com/vi_webp/J3igzbaOF_M/maxres...      217477       12693   \n",
       "2   https://i.ytimg.com/vi_webp/LuThmQCAnZc/maxres...      124445        4452   \n",
       "3   https://i.ytimg.com/vi_webp/dPLj_lId_zY/maxres...      168100        8885   \n",
       "4   https://i.ytimg.com/vi_webp/QOm4okp1J5c/maxres...      271683        9591   \n",
       "5   https://i.ytimg.com/vi_webp/0YoPpEIS3o4/maxres...      370521       13169   \n",
       "6   https://i.ytimg.com/vi_webp/MDigRlLPlgc/maxres...       77679        2743   \n",
       "7   https://i.ytimg.com/vi_webp/Q65Fn1FZwdE/maxres...      103402        3607   \n",
       "8   https://i.ytimg.com/vi_webp/lUDozITit6w/maxres...      321738       11271   \n",
       "9   https://i.ytimg.com/vi_webp/0d5vOvvP8qk/maxres...      310079       10944   \n",
       "10  https://i.ytimg.com/vi_webp/JdgWV-e-RR8/maxres...       85160        3031   \n",
       "11  https://i.ytimg.com/vi_webp/3MZ6aTpFrE0/maxres...      408625       12167   \n",
       "12  https://i.ytimg.com/vi_webp/Gb_i_W7Ko3Y/maxres...     1227866       33642   \n",
       "13  https://i.ytimg.com/vi_webp/YOIw5r0qEGo/maxres...      102182        3258   \n",
       "14  https://i.ytimg.com/vi_webp/aURzYhwsyHg/maxres...      408002        9690   \n",
       "15  https://i.ytimg.com/vi_webp/KBTe0kJM1QY/maxres...      683052       23050   \n",
       "16  https://i.ytimg.com/vi_webp/r4yegw_rgrc/maxres...      120612        4400   \n",
       "17  https://i.ytimg.com/vi_webp/3i0HG5kdAno/maxres...      289383        8714   \n",
       "18  https://i.ytimg.com/vi_webp/BrtEhtO7mMk/maxres...      562316       17036   \n",
       "19  https://i.ytimg.com/vi_webp/eOT8GyDx9EY/maxres...       88708        2662   \n",
       "\n",
       "    comment_count   brands  NoOf_days  \n",
       "0             675  Samsung         14  \n",
       "1             373    Other         17  \n",
       "2             295    Other         21  \n",
       "3             634     Lava         25  \n",
       "4            1000     Moto         28  \n",
       "5             481    Other         31  \n",
       "6             208     ASUS         34  \n",
       "7             285     Dell         36  \n",
       "8            1600   Google         41  \n",
       "9            1400    Other         42  \n",
       "10            123     ASUS         43  \n",
       "11            957    Other         47  \n",
       "12           1800    Other         48  \n",
       "13            206    Other         52  \n",
       "14            820  OnePlus         53  \n",
       "15            354    Other         55  \n",
       "16            252     ASUS         60  \n",
       "17            509    Other         62  \n",
       "18           1100    Other         65  \n",
       "19            187     Dell         67  "
      ]
     },
     "execution_count": 41,
     "metadata": {},
     "output_type": "execute_result"
    }
   ],
   "source": [
    "df"
   ]
  },
  {
   "cell_type": "code",
   "execution_count": 43,
   "id": "c39e3098",
   "metadata": {},
   "outputs": [],
   "source": [
    "df_avg = df [[\"title\", \"NoOf_days\", \"view_count\"]]"
   ]
  },
  {
   "cell_type": "code",
   "execution_count": 46,
   "id": "14bd1e59",
   "metadata": {},
   "outputs": [
    {
     "name": "stderr",
     "output_type": "stream",
     "text": [
      "C:\\Users\\Aditya Chivate\\AppData\\Local\\Temp\\ipykernel_20252\\891068952.py:1: SettingWithCopyWarning:\n",
      "\n",
      "\n",
      "A value is trying to be set on a copy of a slice from a DataFrame.\n",
      "Try using .loc[row_indexer,col_indexer] = value instead\n",
      "\n",
      "See the caveats in the documentation: https://pandas.pydata.org/pandas-docs/stable/user_guide/indexing.html#returning-a-view-versus-a-copy\n",
      "\n"
     ]
    },
    {
     "data": {
      "text/html": [
       "<div>\n",
       "<style scoped>\n",
       "    .dataframe tbody tr th:only-of-type {\n",
       "        vertical-align: middle;\n",
       "    }\n",
       "\n",
       "    .dataframe tbody tr th {\n",
       "        vertical-align: top;\n",
       "    }\n",
       "\n",
       "    .dataframe thead th {\n",
       "        text-align: right;\n",
       "    }\n",
       "</style>\n",
       "<table border=\"1\" class=\"dataframe\">\n",
       "  <thead>\n",
       "    <tr style=\"text-align: right;\">\n",
       "      <th></th>\n",
       "      <th>title</th>\n",
       "      <th>NoOf_days</th>\n",
       "      <th>Avg</th>\n",
       "    </tr>\n",
       "  </thead>\n",
       "  <tbody>\n",
       "    <tr>\n",
       "      <th>0</th>\n",
       "      <td>Samsung Galaxy F54 First Impressions!</td>\n",
       "      <td>14</td>\n",
       "      <td>6234.714286</td>\n",
       "    </tr>\n",
       "    <tr>\n",
       "      <th>1</th>\n",
       "      <td>7 Dangerous Android Settings You Need to Turn ...</td>\n",
       "      <td>17</td>\n",
       "      <td>12792.764706</td>\n",
       "    </tr>\n",
       "    <tr>\n",
       "      <th>2</th>\n",
       "      <td>QLED vs LED TV at 30K: Don't Make This Mistake!</td>\n",
       "      <td>21</td>\n",
       "      <td>5925.952381</td>\n",
       "    </tr>\n",
       "    <tr>\n",
       "      <th>3</th>\n",
       "      <td>Lava Agni 2 Review: The Good, The Bad, The Best!</td>\n",
       "      <td>25</td>\n",
       "      <td>6724.000000</td>\n",
       "    </tr>\n",
       "    <tr>\n",
       "      <th>4</th>\n",
       "      <td>Moto Edge 40: A Good Option Under 30K?</td>\n",
       "      <td>28</td>\n",
       "      <td>9702.964286</td>\n",
       "    </tr>\n",
       "    <tr>\n",
       "      <th>5</th>\n",
       "      <td>8 Super Useful Gadgets for Students!</td>\n",
       "      <td>31</td>\n",
       "      <td>11952.290323</td>\n",
       "    </tr>\n",
       "    <tr>\n",
       "      <th>6</th>\n",
       "      <td>ASUS ROG Strix G18: Core i9 + 4070 at Great Pr...</td>\n",
       "      <td>34</td>\n",
       "      <td>2284.676471</td>\n",
       "    </tr>\n",
       "    <tr>\n",
       "      <th>7</th>\n",
       "      <td>Dell G16 (2023): High Performance, Better Price!</td>\n",
       "      <td>36</td>\n",
       "      <td>2872.277778</td>\n",
       "    </tr>\n",
       "    <tr>\n",
       "      <th>8</th>\n",
       "      <td>Pixel 7a: Google Fixed It!</td>\n",
       "      <td>41</td>\n",
       "      <td>7847.268293</td>\n",
       "    </tr>\n",
       "    <tr>\n",
       "      <th>9</th>\n",
       "      <td>POCO F5: Snapdragon 7+ Gen 2 is ðŸ”¥</td>\n",
       "      <td>42</td>\n",
       "      <td>7382.833333</td>\n",
       "    </tr>\n",
       "    <tr>\n",
       "      <th>10</th>\n",
       "      <td>ASUS Zenbook Pro 14 Duo (2023): Dual Screens G...</td>\n",
       "      <td>43</td>\n",
       "      <td>1980.465116</td>\n",
       "    </tr>\n",
       "    <tr>\n",
       "      <th>11</th>\n",
       "      <td>15 Quality Deals on Flipkart &amp; Amazon Right Now!</td>\n",
       "      <td>47</td>\n",
       "      <td>8694.148936</td>\n",
       "    </tr>\n",
       "    <tr>\n",
       "      <th>12</th>\n",
       "      <td>The Best Phone Under â‚¹20,000!</td>\n",
       "      <td>48</td>\n",
       "      <td>25580.541667</td>\n",
       "    </tr>\n",
       "    <tr>\n",
       "      <th>13</th>\n",
       "      <td>Tecno Phantom V Fold: Finally, An Affordable F...</td>\n",
       "      <td>52</td>\n",
       "      <td>1965.038462</td>\n",
       "    </tr>\n",
       "    <tr>\n",
       "      <th>14</th>\n",
       "      <td>OnePlus Pad: Impressive Android Tablet!</td>\n",
       "      <td>53</td>\n",
       "      <td>7698.150943</td>\n",
       "    </tr>\n",
       "    <tr>\n",
       "      <th>15</th>\n",
       "      <td>7 Awesome Gadgets for Home!</td>\n",
       "      <td>55</td>\n",
       "      <td>12419.127273</td>\n",
       "    </tr>\n",
       "    <tr>\n",
       "      <th>16</th>\n",
       "      <td>ASUS ZenBook S13 OLED: The Ultra Light Windows...</td>\n",
       "      <td>60</td>\n",
       "      <td>2010.200000</td>\n",
       "    </tr>\n",
       "    <tr>\n",
       "      <th>17</th>\n",
       "      <td>The Best Laptop Deal for Students!</td>\n",
       "      <td>62</td>\n",
       "      <td>4667.467742</td>\n",
       "    </tr>\n",
       "    <tr>\n",
       "      <th>18</th>\n",
       "      <td>The Best Phone Deal Right Now!</td>\n",
       "      <td>65</td>\n",
       "      <td>8651.015385</td>\n",
       "    </tr>\n",
       "    <tr>\n",
       "      <th>19</th>\n",
       "      <td>Dell Inspiron 16 2-in-1 (2023): Really Good Ha...</td>\n",
       "      <td>67</td>\n",
       "      <td>1324.000000</td>\n",
       "    </tr>\n",
       "  </tbody>\n",
       "</table>\n",
       "</div>"
      ],
      "text/plain": [
       "                                                title  NoOf_days           Avg\n",
       "0               Samsung Galaxy F54 First Impressions!         14   6234.714286\n",
       "1   7 Dangerous Android Settings You Need to Turn ...         17  12792.764706\n",
       "2     QLED vs LED TV at 30K: Don't Make This Mistake!         21   5925.952381\n",
       "3    Lava Agni 2 Review: The Good, The Bad, The Best!         25   6724.000000\n",
       "4              Moto Edge 40: A Good Option Under 30K?         28   9702.964286\n",
       "5                8 Super Useful Gadgets for Students!         31  11952.290323\n",
       "6   ASUS ROG Strix G18: Core i9 + 4070 at Great Pr...         34   2284.676471\n",
       "7    Dell G16 (2023): High Performance, Better Price!         36   2872.277778\n",
       "8                          Pixel 7a: Google Fixed It!         41   7847.268293\n",
       "9                POCO F5: Snapdragon 7+ Gen 2 is ðŸ”¥         42   7382.833333\n",
       "10  ASUS Zenbook Pro 14 Duo (2023): Dual Screens G...         43   1980.465116\n",
       "11   15 Quality Deals on Flipkart & Amazon Right Now!         47   8694.148936\n",
       "12                    The Best Phone Under â‚¹20,000!         48  25580.541667\n",
       "13  Tecno Phantom V Fold: Finally, An Affordable F...         52   1965.038462\n",
       "14            OnePlus Pad: Impressive Android Tablet!         53   7698.150943\n",
       "15                        7 Awesome Gadgets for Home!         55  12419.127273\n",
       "16  ASUS ZenBook S13 OLED: The Ultra Light Windows...         60   2010.200000\n",
       "17                 The Best Laptop Deal for Students!         62   4667.467742\n",
       "18                     The Best Phone Deal Right Now!         65   8651.015385\n",
       "19  Dell Inspiron 16 2-in-1 (2023): Really Good Ha...         67   1324.000000"
      ]
     },
     "execution_count": 46,
     "metadata": {},
     "output_type": "execute_result"
    }
   ],
   "source": [
    "df_avg[\"Avg\"] = df[\"view_count\"]/df[\"NoOf_days\"]\n",
    "df_avg"
   ]
  },
  {
   "cell_type": "code",
   "execution_count": 51,
   "id": "4c1210a1",
   "metadata": {},
   "outputs": [
    {
     "data": {
      "application/vnd.plotly.v1+json": {
       "config": {
        "plotlyServerURL": "https://plot.ly"
       },
       "data": [
        {
         "alignmentgroup": "True",
         "hovertemplate": "title=%{x}<br>Avg=%{y}<extra></extra>",
         "legendgroup": "",
         "marker": {
          "color": "#636efa",
          "pattern": {
           "shape": ""
          }
         },
         "name": "",
         "offsetgroup": "",
         "orientation": "v",
         "showlegend": false,
         "textposition": "auto",
         "type": "bar",
         "x": [
          "Samsung Galaxy F54 First Impressions!",
          "7 Dangerous Android Settings You Need to Turn Off!",
          "QLED vs LED TV at 30K: Don't Make This Mistake!",
          "Lava Agni 2 Review: The Good, The Bad, The Best!",
          "Moto Edge 40: A Good Option Under 30K?",
          "8 Super Useful Gadgets for Students!",
          "ASUS ROG Strix G18: Core i9 + 4070 at Great Price?",
          "Dell G16 (2023): High Performance, Better Price!",
          "Pixel 7a: Google Fixed It!",
          "POCO F5: Snapdragon 7+ Gen 2 is ðŸ”¥",
          "ASUS Zenbook Pro 14 Duo (2023): Dual Screens Get Better!",
          "15 Quality Deals on Flipkart & Amazon Right Now!",
          "The Best Phone Under â‚¹20,000!",
          "Tecno Phantom V Fold: Finally, An Affordable Foldable!",
          "OnePlus Pad: Impressive Android Tablet!",
          "7 Awesome Gadgets for Home!",
          "ASUS ZenBook S13 OLED: The Ultra Light Windows Champ!",
          "The Best Laptop Deal for Students!",
          "The Best Phone Deal Right Now!",
          "Dell Inspiron 16 2-in-1 (2023): Really Good Hardware!"
         ],
         "xaxis": "x",
         "y": [
          6234.714285714285,
          12792.764705882353,
          5925.952380952381,
          6724,
          9702.964285714286,
          11952.290322580646,
          2284.676470588235,
          2872.277777777778,
          7847.268292682927,
          7382.833333333333,
          1980.4651162790697,
          8694.148936170213,
          25580.541666666668,
          1965.0384615384614,
          7698.1509433962265,
          12419.127272727274,
          2010.2,
          4667.467741935484,
          8651.015384615384,
          1324
         ],
         "yaxis": "y"
        }
       ],
       "layout": {
        "barmode": "relative",
        "legend": {
         "tracegroupgap": 0
        },
        "margin": {
         "t": 60
        },
        "template": {
         "data": {
          "bar": [
           {
            "error_x": {
             "color": "#2a3f5f"
            },
            "error_y": {
             "color": "#2a3f5f"
            },
            "marker": {
             "line": {
              "color": "#E5ECF6",
              "width": 0.5
             },
             "pattern": {
              "fillmode": "overlay",
              "size": 10,
              "solidity": 0.2
             }
            },
            "type": "bar"
           }
          ],
          "barpolar": [
           {
            "marker": {
             "line": {
              "color": "#E5ECF6",
              "width": 0.5
             },
             "pattern": {
              "fillmode": "overlay",
              "size": 10,
              "solidity": 0.2
             }
            },
            "type": "barpolar"
           }
          ],
          "carpet": [
           {
            "aaxis": {
             "endlinecolor": "#2a3f5f",
             "gridcolor": "white",
             "linecolor": "white",
             "minorgridcolor": "white",
             "startlinecolor": "#2a3f5f"
            },
            "baxis": {
             "endlinecolor": "#2a3f5f",
             "gridcolor": "white",
             "linecolor": "white",
             "minorgridcolor": "white",
             "startlinecolor": "#2a3f5f"
            },
            "type": "carpet"
           }
          ],
          "choropleth": [
           {
            "colorbar": {
             "outlinewidth": 0,
             "ticks": ""
            },
            "type": "choropleth"
           }
          ],
          "contour": [
           {
            "colorbar": {
             "outlinewidth": 0,
             "ticks": ""
            },
            "colorscale": [
             [
              0,
              "#0d0887"
             ],
             [
              0.1111111111111111,
              "#46039f"
             ],
             [
              0.2222222222222222,
              "#7201a8"
             ],
             [
              0.3333333333333333,
              "#9c179e"
             ],
             [
              0.4444444444444444,
              "#bd3786"
             ],
             [
              0.5555555555555556,
              "#d8576b"
             ],
             [
              0.6666666666666666,
              "#ed7953"
             ],
             [
              0.7777777777777778,
              "#fb9f3a"
             ],
             [
              0.8888888888888888,
              "#fdca26"
             ],
             [
              1,
              "#f0f921"
             ]
            ],
            "type": "contour"
           }
          ],
          "contourcarpet": [
           {
            "colorbar": {
             "outlinewidth": 0,
             "ticks": ""
            },
            "type": "contourcarpet"
           }
          ],
          "heatmap": [
           {
            "colorbar": {
             "outlinewidth": 0,
             "ticks": ""
            },
            "colorscale": [
             [
              0,
              "#0d0887"
             ],
             [
              0.1111111111111111,
              "#46039f"
             ],
             [
              0.2222222222222222,
              "#7201a8"
             ],
             [
              0.3333333333333333,
              "#9c179e"
             ],
             [
              0.4444444444444444,
              "#bd3786"
             ],
             [
              0.5555555555555556,
              "#d8576b"
             ],
             [
              0.6666666666666666,
              "#ed7953"
             ],
             [
              0.7777777777777778,
              "#fb9f3a"
             ],
             [
              0.8888888888888888,
              "#fdca26"
             ],
             [
              1,
              "#f0f921"
             ]
            ],
            "type": "heatmap"
           }
          ],
          "heatmapgl": [
           {
            "colorbar": {
             "outlinewidth": 0,
             "ticks": ""
            },
            "colorscale": [
             [
              0,
              "#0d0887"
             ],
             [
              0.1111111111111111,
              "#46039f"
             ],
             [
              0.2222222222222222,
              "#7201a8"
             ],
             [
              0.3333333333333333,
              "#9c179e"
             ],
             [
              0.4444444444444444,
              "#bd3786"
             ],
             [
              0.5555555555555556,
              "#d8576b"
             ],
             [
              0.6666666666666666,
              "#ed7953"
             ],
             [
              0.7777777777777778,
              "#fb9f3a"
             ],
             [
              0.8888888888888888,
              "#fdca26"
             ],
             [
              1,
              "#f0f921"
             ]
            ],
            "type": "heatmapgl"
           }
          ],
          "histogram": [
           {
            "marker": {
             "pattern": {
              "fillmode": "overlay",
              "size": 10,
              "solidity": 0.2
             }
            },
            "type": "histogram"
           }
          ],
          "histogram2d": [
           {
            "colorbar": {
             "outlinewidth": 0,
             "ticks": ""
            },
            "colorscale": [
             [
              0,
              "#0d0887"
             ],
             [
              0.1111111111111111,
              "#46039f"
             ],
             [
              0.2222222222222222,
              "#7201a8"
             ],
             [
              0.3333333333333333,
              "#9c179e"
             ],
             [
              0.4444444444444444,
              "#bd3786"
             ],
             [
              0.5555555555555556,
              "#d8576b"
             ],
             [
              0.6666666666666666,
              "#ed7953"
             ],
             [
              0.7777777777777778,
              "#fb9f3a"
             ],
             [
              0.8888888888888888,
              "#fdca26"
             ],
             [
              1,
              "#f0f921"
             ]
            ],
            "type": "histogram2d"
           }
          ],
          "histogram2dcontour": [
           {
            "colorbar": {
             "outlinewidth": 0,
             "ticks": ""
            },
            "colorscale": [
             [
              0,
              "#0d0887"
             ],
             [
              0.1111111111111111,
              "#46039f"
             ],
             [
              0.2222222222222222,
              "#7201a8"
             ],
             [
              0.3333333333333333,
              "#9c179e"
             ],
             [
              0.4444444444444444,
              "#bd3786"
             ],
             [
              0.5555555555555556,
              "#d8576b"
             ],
             [
              0.6666666666666666,
              "#ed7953"
             ],
             [
              0.7777777777777778,
              "#fb9f3a"
             ],
             [
              0.8888888888888888,
              "#fdca26"
             ],
             [
              1,
              "#f0f921"
             ]
            ],
            "type": "histogram2dcontour"
           }
          ],
          "mesh3d": [
           {
            "colorbar": {
             "outlinewidth": 0,
             "ticks": ""
            },
            "type": "mesh3d"
           }
          ],
          "parcoords": [
           {
            "line": {
             "colorbar": {
              "outlinewidth": 0,
              "ticks": ""
             }
            },
            "type": "parcoords"
           }
          ],
          "pie": [
           {
            "automargin": true,
            "type": "pie"
           }
          ],
          "scatter": [
           {
            "fillpattern": {
             "fillmode": "overlay",
             "size": 10,
             "solidity": 0.2
            },
            "type": "scatter"
           }
          ],
          "scatter3d": [
           {
            "line": {
             "colorbar": {
              "outlinewidth": 0,
              "ticks": ""
             }
            },
            "marker": {
             "colorbar": {
              "outlinewidth": 0,
              "ticks": ""
             }
            },
            "type": "scatter3d"
           }
          ],
          "scattercarpet": [
           {
            "marker": {
             "colorbar": {
              "outlinewidth": 0,
              "ticks": ""
             }
            },
            "type": "scattercarpet"
           }
          ],
          "scattergeo": [
           {
            "marker": {
             "colorbar": {
              "outlinewidth": 0,
              "ticks": ""
             }
            },
            "type": "scattergeo"
           }
          ],
          "scattergl": [
           {
            "marker": {
             "colorbar": {
              "outlinewidth": 0,
              "ticks": ""
             }
            },
            "type": "scattergl"
           }
          ],
          "scattermapbox": [
           {
            "marker": {
             "colorbar": {
              "outlinewidth": 0,
              "ticks": ""
             }
            },
            "type": "scattermapbox"
           }
          ],
          "scatterpolar": [
           {
            "marker": {
             "colorbar": {
              "outlinewidth": 0,
              "ticks": ""
             }
            },
            "type": "scatterpolar"
           }
          ],
          "scatterpolargl": [
           {
            "marker": {
             "colorbar": {
              "outlinewidth": 0,
              "ticks": ""
             }
            },
            "type": "scatterpolargl"
           }
          ],
          "scatterternary": [
           {
            "marker": {
             "colorbar": {
              "outlinewidth": 0,
              "ticks": ""
             }
            },
            "type": "scatterternary"
           }
          ],
          "surface": [
           {
            "colorbar": {
             "outlinewidth": 0,
             "ticks": ""
            },
            "colorscale": [
             [
              0,
              "#0d0887"
             ],
             [
              0.1111111111111111,
              "#46039f"
             ],
             [
              0.2222222222222222,
              "#7201a8"
             ],
             [
              0.3333333333333333,
              "#9c179e"
             ],
             [
              0.4444444444444444,
              "#bd3786"
             ],
             [
              0.5555555555555556,
              "#d8576b"
             ],
             [
              0.6666666666666666,
              "#ed7953"
             ],
             [
              0.7777777777777778,
              "#fb9f3a"
             ],
             [
              0.8888888888888888,
              "#fdca26"
             ],
             [
              1,
              "#f0f921"
             ]
            ],
            "type": "surface"
           }
          ],
          "table": [
           {
            "cells": {
             "fill": {
              "color": "#EBF0F8"
             },
             "line": {
              "color": "white"
             }
            },
            "header": {
             "fill": {
              "color": "#C8D4E3"
             },
             "line": {
              "color": "white"
             }
            },
            "type": "table"
           }
          ]
         },
         "layout": {
          "annotationdefaults": {
           "arrowcolor": "#2a3f5f",
           "arrowhead": 0,
           "arrowwidth": 1
          },
          "autotypenumbers": "strict",
          "coloraxis": {
           "colorbar": {
            "outlinewidth": 0,
            "ticks": ""
           }
          },
          "colorscale": {
           "diverging": [
            [
             0,
             "#8e0152"
            ],
            [
             0.1,
             "#c51b7d"
            ],
            [
             0.2,
             "#de77ae"
            ],
            [
             0.3,
             "#f1b6da"
            ],
            [
             0.4,
             "#fde0ef"
            ],
            [
             0.5,
             "#f7f7f7"
            ],
            [
             0.6,
             "#e6f5d0"
            ],
            [
             0.7,
             "#b8e186"
            ],
            [
             0.8,
             "#7fbc41"
            ],
            [
             0.9,
             "#4d9221"
            ],
            [
             1,
             "#276419"
            ]
           ],
           "sequential": [
            [
             0,
             "#0d0887"
            ],
            [
             0.1111111111111111,
             "#46039f"
            ],
            [
             0.2222222222222222,
             "#7201a8"
            ],
            [
             0.3333333333333333,
             "#9c179e"
            ],
            [
             0.4444444444444444,
             "#bd3786"
            ],
            [
             0.5555555555555556,
             "#d8576b"
            ],
            [
             0.6666666666666666,
             "#ed7953"
            ],
            [
             0.7777777777777778,
             "#fb9f3a"
            ],
            [
             0.8888888888888888,
             "#fdca26"
            ],
            [
             1,
             "#f0f921"
            ]
           ],
           "sequentialminus": [
            [
             0,
             "#0d0887"
            ],
            [
             0.1111111111111111,
             "#46039f"
            ],
            [
             0.2222222222222222,
             "#7201a8"
            ],
            [
             0.3333333333333333,
             "#9c179e"
            ],
            [
             0.4444444444444444,
             "#bd3786"
            ],
            [
             0.5555555555555556,
             "#d8576b"
            ],
            [
             0.6666666666666666,
             "#ed7953"
            ],
            [
             0.7777777777777778,
             "#fb9f3a"
            ],
            [
             0.8888888888888888,
             "#fdca26"
            ],
            [
             1,
             "#f0f921"
            ]
           ]
          },
          "colorway": [
           "#636efa",
           "#EF553B",
           "#00cc96",
           "#ab63fa",
           "#FFA15A",
           "#19d3f3",
           "#FF6692",
           "#B6E880",
           "#FF97FF",
           "#FECB52"
          ],
          "font": {
           "color": "#2a3f5f"
          },
          "geo": {
           "bgcolor": "white",
           "lakecolor": "white",
           "landcolor": "#E5ECF6",
           "showlakes": true,
           "showland": true,
           "subunitcolor": "white"
          },
          "hoverlabel": {
           "align": "left"
          },
          "hovermode": "closest",
          "mapbox": {
           "style": "light"
          },
          "paper_bgcolor": "white",
          "plot_bgcolor": "#E5ECF6",
          "polar": {
           "angularaxis": {
            "gridcolor": "white",
            "linecolor": "white",
            "ticks": ""
           },
           "bgcolor": "#E5ECF6",
           "radialaxis": {
            "gridcolor": "white",
            "linecolor": "white",
            "ticks": ""
           }
          },
          "scene": {
           "xaxis": {
            "backgroundcolor": "#E5ECF6",
            "gridcolor": "white",
            "gridwidth": 2,
            "linecolor": "white",
            "showbackground": true,
            "ticks": "",
            "zerolinecolor": "white"
           },
           "yaxis": {
            "backgroundcolor": "#E5ECF6",
            "gridcolor": "white",
            "gridwidth": 2,
            "linecolor": "white",
            "showbackground": true,
            "ticks": "",
            "zerolinecolor": "white"
           },
           "zaxis": {
            "backgroundcolor": "#E5ECF6",
            "gridcolor": "white",
            "gridwidth": 2,
            "linecolor": "white",
            "showbackground": true,
            "ticks": "",
            "zerolinecolor": "white"
           }
          },
          "shapedefaults": {
           "line": {
            "color": "#2a3f5f"
           }
          },
          "ternary": {
           "aaxis": {
            "gridcolor": "white",
            "linecolor": "white",
            "ticks": ""
           },
           "baxis": {
            "gridcolor": "white",
            "linecolor": "white",
            "ticks": ""
           },
           "bgcolor": "#E5ECF6",
           "caxis": {
            "gridcolor": "white",
            "linecolor": "white",
            "ticks": ""
           }
          },
          "title": {
           "x": 0.05
          },
          "xaxis": {
           "automargin": true,
           "gridcolor": "white",
           "linecolor": "white",
           "ticks": "",
           "title": {
            "standoff": 15
           },
           "zerolinecolor": "white",
           "zerolinewidth": 2
          },
          "yaxis": {
           "automargin": true,
           "gridcolor": "white",
           "linecolor": "white",
           "ticks": "",
           "title": {
            "standoff": 15
           },
           "zerolinecolor": "white",
           "zerolinewidth": 2
          }
         }
        },
        "xaxis": {
         "anchor": "y",
         "domain": [
          0,
          1
         ],
         "title": {
          "text": "title"
         }
        },
        "yaxis": {
         "anchor": "x",
         "domain": [
          0,
          1
         ],
         "title": {
          "text": "Avg"
         }
        }
       }
      },
      "text/html": [
       "<div>                            <div id=\"68561411-84b0-4d79-a607-577ee37717d3\" class=\"plotly-graph-div\" style=\"height:525px; width:100%;\"></div>            <script type=\"text/javascript\">                require([\"plotly\"], function(Plotly) {                    window.PLOTLYENV=window.PLOTLYENV || {};                                    if (document.getElementById(\"68561411-84b0-4d79-a607-577ee37717d3\")) {                    Plotly.newPlot(                        \"68561411-84b0-4d79-a607-577ee37717d3\",                        [{\"alignmentgroup\":\"True\",\"hovertemplate\":\"title=%{x}<br>Avg=%{y}<extra></extra>\",\"legendgroup\":\"\",\"marker\":{\"color\":\"#636efa\",\"pattern\":{\"shape\":\"\"}},\"name\":\"\",\"offsetgroup\":\"\",\"orientation\":\"v\",\"showlegend\":false,\"textposition\":\"auto\",\"x\":[\"Samsung Galaxy F54 First Impressions!\",\"7 Dangerous Android Settings You Need to Turn Off!\",\"QLED vs LED TV at 30K: Don't Make This Mistake!\",\"Lava Agni 2 Review: The Good, The Bad, The Best!\",\"Moto Edge 40: A Good Option Under 30K?\",\"8 Super Useful Gadgets for Students!\",\"ASUS ROG Strix G18: Core i9 + 4070 at Great Price?\",\"Dell G16 (2023): High Performance, Better Price!\",\"Pixel 7a: Google Fixed It!\",\"POCO F5: Snapdragon 7+ Gen 2 is \\u00f0\\u0178\\u201d\\u00a5\",\"ASUS Zenbook Pro 14 Duo (2023): Dual Screens Get Better!\",\"15 Quality Deals on Flipkart & Amazon Right Now!\",\"The Best Phone Under \\u00e2\\u201a\\u00b920,000!\",\"Tecno Phantom V Fold: Finally, An Affordable Foldable!\",\"OnePlus Pad: Impressive Android Tablet!\",\"7 Awesome Gadgets for Home!\",\"ASUS ZenBook S13 OLED: The Ultra Light Windows Champ!\",\"The Best Laptop Deal for Students!\",\"The Best Phone Deal Right Now!\",\"Dell Inspiron 16 2-in-1 (2023): Really Good Hardware!\"],\"xaxis\":\"x\",\"y\":[6234.714285714285,12792.764705882353,5925.952380952381,6724.0,9702.964285714286,11952.290322580646,2284.676470588235,2872.277777777778,7847.268292682927,7382.833333333333,1980.4651162790697,8694.148936170213,25580.541666666668,1965.0384615384614,7698.1509433962265,12419.127272727274,2010.2,4667.467741935484,8651.015384615384,1324.0],\"yaxis\":\"y\",\"type\":\"bar\"}],                        {\"template\":{\"data\":{\"histogram2dcontour\":[{\"type\":\"histogram2dcontour\",\"colorbar\":{\"outlinewidth\":0,\"ticks\":\"\"},\"colorscale\":[[0.0,\"#0d0887\"],[0.1111111111111111,\"#46039f\"],[0.2222222222222222,\"#7201a8\"],[0.3333333333333333,\"#9c179e\"],[0.4444444444444444,\"#bd3786\"],[0.5555555555555556,\"#d8576b\"],[0.6666666666666666,\"#ed7953\"],[0.7777777777777778,\"#fb9f3a\"],[0.8888888888888888,\"#fdca26\"],[1.0,\"#f0f921\"]]}],\"choropleth\":[{\"type\":\"choropleth\",\"colorbar\":{\"outlinewidth\":0,\"ticks\":\"\"}}],\"histogram2d\":[{\"type\":\"histogram2d\",\"colorbar\":{\"outlinewidth\":0,\"ticks\":\"\"},\"colorscale\":[[0.0,\"#0d0887\"],[0.1111111111111111,\"#46039f\"],[0.2222222222222222,\"#7201a8\"],[0.3333333333333333,\"#9c179e\"],[0.4444444444444444,\"#bd3786\"],[0.5555555555555556,\"#d8576b\"],[0.6666666666666666,\"#ed7953\"],[0.7777777777777778,\"#fb9f3a\"],[0.8888888888888888,\"#fdca26\"],[1.0,\"#f0f921\"]]}],\"heatmap\":[{\"type\":\"heatmap\",\"colorbar\":{\"outlinewidth\":0,\"ticks\":\"\"},\"colorscale\":[[0.0,\"#0d0887\"],[0.1111111111111111,\"#46039f\"],[0.2222222222222222,\"#7201a8\"],[0.3333333333333333,\"#9c179e\"],[0.4444444444444444,\"#bd3786\"],[0.5555555555555556,\"#d8576b\"],[0.6666666666666666,\"#ed7953\"],[0.7777777777777778,\"#fb9f3a\"],[0.8888888888888888,\"#fdca26\"],[1.0,\"#f0f921\"]]}],\"heatmapgl\":[{\"type\":\"heatmapgl\",\"colorbar\":{\"outlinewidth\":0,\"ticks\":\"\"},\"colorscale\":[[0.0,\"#0d0887\"],[0.1111111111111111,\"#46039f\"],[0.2222222222222222,\"#7201a8\"],[0.3333333333333333,\"#9c179e\"],[0.4444444444444444,\"#bd3786\"],[0.5555555555555556,\"#d8576b\"],[0.6666666666666666,\"#ed7953\"],[0.7777777777777778,\"#fb9f3a\"],[0.8888888888888888,\"#fdca26\"],[1.0,\"#f0f921\"]]}],\"contourcarpet\":[{\"type\":\"contourcarpet\",\"colorbar\":{\"outlinewidth\":0,\"ticks\":\"\"}}],\"contour\":[{\"type\":\"contour\",\"colorbar\":{\"outlinewidth\":0,\"ticks\":\"\"},\"colorscale\":[[0.0,\"#0d0887\"],[0.1111111111111111,\"#46039f\"],[0.2222222222222222,\"#7201a8\"],[0.3333333333333333,\"#9c179e\"],[0.4444444444444444,\"#bd3786\"],[0.5555555555555556,\"#d8576b\"],[0.6666666666666666,\"#ed7953\"],[0.7777777777777778,\"#fb9f3a\"],[0.8888888888888888,\"#fdca26\"],[1.0,\"#f0f921\"]]}],\"surface\":[{\"type\":\"surface\",\"colorbar\":{\"outlinewidth\":0,\"ticks\":\"\"},\"colorscale\":[[0.0,\"#0d0887\"],[0.1111111111111111,\"#46039f\"],[0.2222222222222222,\"#7201a8\"],[0.3333333333333333,\"#9c179e\"],[0.4444444444444444,\"#bd3786\"],[0.5555555555555556,\"#d8576b\"],[0.6666666666666666,\"#ed7953\"],[0.7777777777777778,\"#fb9f3a\"],[0.8888888888888888,\"#fdca26\"],[1.0,\"#f0f921\"]]}],\"mesh3d\":[{\"type\":\"mesh3d\",\"colorbar\":{\"outlinewidth\":0,\"ticks\":\"\"}}],\"scatter\":[{\"fillpattern\":{\"fillmode\":\"overlay\",\"size\":10,\"solidity\":0.2},\"type\":\"scatter\"}],\"parcoords\":[{\"type\":\"parcoords\",\"line\":{\"colorbar\":{\"outlinewidth\":0,\"ticks\":\"\"}}}],\"scatterpolargl\":[{\"type\":\"scatterpolargl\",\"marker\":{\"colorbar\":{\"outlinewidth\":0,\"ticks\":\"\"}}}],\"bar\":[{\"error_x\":{\"color\":\"#2a3f5f\"},\"error_y\":{\"color\":\"#2a3f5f\"},\"marker\":{\"line\":{\"color\":\"#E5ECF6\",\"width\":0.5},\"pattern\":{\"fillmode\":\"overlay\",\"size\":10,\"solidity\":0.2}},\"type\":\"bar\"}],\"scattergeo\":[{\"type\":\"scattergeo\",\"marker\":{\"colorbar\":{\"outlinewidth\":0,\"ticks\":\"\"}}}],\"scatterpolar\":[{\"type\":\"scatterpolar\",\"marker\":{\"colorbar\":{\"outlinewidth\":0,\"ticks\":\"\"}}}],\"histogram\":[{\"marker\":{\"pattern\":{\"fillmode\":\"overlay\",\"size\":10,\"solidity\":0.2}},\"type\":\"histogram\"}],\"scattergl\":[{\"type\":\"scattergl\",\"marker\":{\"colorbar\":{\"outlinewidth\":0,\"ticks\":\"\"}}}],\"scatter3d\":[{\"type\":\"scatter3d\",\"line\":{\"colorbar\":{\"outlinewidth\":0,\"ticks\":\"\"}},\"marker\":{\"colorbar\":{\"outlinewidth\":0,\"ticks\":\"\"}}}],\"scattermapbox\":[{\"type\":\"scattermapbox\",\"marker\":{\"colorbar\":{\"outlinewidth\":0,\"ticks\":\"\"}}}],\"scatterternary\":[{\"type\":\"scatterternary\",\"marker\":{\"colorbar\":{\"outlinewidth\":0,\"ticks\":\"\"}}}],\"scattercarpet\":[{\"type\":\"scattercarpet\",\"marker\":{\"colorbar\":{\"outlinewidth\":0,\"ticks\":\"\"}}}],\"carpet\":[{\"aaxis\":{\"endlinecolor\":\"#2a3f5f\",\"gridcolor\":\"white\",\"linecolor\":\"white\",\"minorgridcolor\":\"white\",\"startlinecolor\":\"#2a3f5f\"},\"baxis\":{\"endlinecolor\":\"#2a3f5f\",\"gridcolor\":\"white\",\"linecolor\":\"white\",\"minorgridcolor\":\"white\",\"startlinecolor\":\"#2a3f5f\"},\"type\":\"carpet\"}],\"table\":[{\"cells\":{\"fill\":{\"color\":\"#EBF0F8\"},\"line\":{\"color\":\"white\"}},\"header\":{\"fill\":{\"color\":\"#C8D4E3\"},\"line\":{\"color\":\"white\"}},\"type\":\"table\"}],\"barpolar\":[{\"marker\":{\"line\":{\"color\":\"#E5ECF6\",\"width\":0.5},\"pattern\":{\"fillmode\":\"overlay\",\"size\":10,\"solidity\":0.2}},\"type\":\"barpolar\"}],\"pie\":[{\"automargin\":true,\"type\":\"pie\"}]},\"layout\":{\"autotypenumbers\":\"strict\",\"colorway\":[\"#636efa\",\"#EF553B\",\"#00cc96\",\"#ab63fa\",\"#FFA15A\",\"#19d3f3\",\"#FF6692\",\"#B6E880\",\"#FF97FF\",\"#FECB52\"],\"font\":{\"color\":\"#2a3f5f\"},\"hovermode\":\"closest\",\"hoverlabel\":{\"align\":\"left\"},\"paper_bgcolor\":\"white\",\"plot_bgcolor\":\"#E5ECF6\",\"polar\":{\"bgcolor\":\"#E5ECF6\",\"angularaxis\":{\"gridcolor\":\"white\",\"linecolor\":\"white\",\"ticks\":\"\"},\"radialaxis\":{\"gridcolor\":\"white\",\"linecolor\":\"white\",\"ticks\":\"\"}},\"ternary\":{\"bgcolor\":\"#E5ECF6\",\"aaxis\":{\"gridcolor\":\"white\",\"linecolor\":\"white\",\"ticks\":\"\"},\"baxis\":{\"gridcolor\":\"white\",\"linecolor\":\"white\",\"ticks\":\"\"},\"caxis\":{\"gridcolor\":\"white\",\"linecolor\":\"white\",\"ticks\":\"\"}},\"coloraxis\":{\"colorbar\":{\"outlinewidth\":0,\"ticks\":\"\"}},\"colorscale\":{\"sequential\":[[0.0,\"#0d0887\"],[0.1111111111111111,\"#46039f\"],[0.2222222222222222,\"#7201a8\"],[0.3333333333333333,\"#9c179e\"],[0.4444444444444444,\"#bd3786\"],[0.5555555555555556,\"#d8576b\"],[0.6666666666666666,\"#ed7953\"],[0.7777777777777778,\"#fb9f3a\"],[0.8888888888888888,\"#fdca26\"],[1.0,\"#f0f921\"]],\"sequentialminus\":[[0.0,\"#0d0887\"],[0.1111111111111111,\"#46039f\"],[0.2222222222222222,\"#7201a8\"],[0.3333333333333333,\"#9c179e\"],[0.4444444444444444,\"#bd3786\"],[0.5555555555555556,\"#d8576b\"],[0.6666666666666666,\"#ed7953\"],[0.7777777777777778,\"#fb9f3a\"],[0.8888888888888888,\"#fdca26\"],[1.0,\"#f0f921\"]],\"diverging\":[[0,\"#8e0152\"],[0.1,\"#c51b7d\"],[0.2,\"#de77ae\"],[0.3,\"#f1b6da\"],[0.4,\"#fde0ef\"],[0.5,\"#f7f7f7\"],[0.6,\"#e6f5d0\"],[0.7,\"#b8e186\"],[0.8,\"#7fbc41\"],[0.9,\"#4d9221\"],[1,\"#276419\"]]},\"xaxis\":{\"gridcolor\":\"white\",\"linecolor\":\"white\",\"ticks\":\"\",\"title\":{\"standoff\":15},\"zerolinecolor\":\"white\",\"automargin\":true,\"zerolinewidth\":2},\"yaxis\":{\"gridcolor\":\"white\",\"linecolor\":\"white\",\"ticks\":\"\",\"title\":{\"standoff\":15},\"zerolinecolor\":\"white\",\"automargin\":true,\"zerolinewidth\":2},\"scene\":{\"xaxis\":{\"backgroundcolor\":\"#E5ECF6\",\"gridcolor\":\"white\",\"linecolor\":\"white\",\"showbackground\":true,\"ticks\":\"\",\"zerolinecolor\":\"white\",\"gridwidth\":2},\"yaxis\":{\"backgroundcolor\":\"#E5ECF6\",\"gridcolor\":\"white\",\"linecolor\":\"white\",\"showbackground\":true,\"ticks\":\"\",\"zerolinecolor\":\"white\",\"gridwidth\":2},\"zaxis\":{\"backgroundcolor\":\"#E5ECF6\",\"gridcolor\":\"white\",\"linecolor\":\"white\",\"showbackground\":true,\"ticks\":\"\",\"zerolinecolor\":\"white\",\"gridwidth\":2}},\"shapedefaults\":{\"line\":{\"color\":\"#2a3f5f\"}},\"annotationdefaults\":{\"arrowcolor\":\"#2a3f5f\",\"arrowhead\":0,\"arrowwidth\":1},\"geo\":{\"bgcolor\":\"white\",\"landcolor\":\"#E5ECF6\",\"subunitcolor\":\"white\",\"showland\":true,\"showlakes\":true,\"lakecolor\":\"white\"},\"title\":{\"x\":0.05},\"mapbox\":{\"style\":\"light\"}}},\"xaxis\":{\"anchor\":\"y\",\"domain\":[0.0,1.0],\"title\":{\"text\":\"title\"}},\"yaxis\":{\"anchor\":\"x\",\"domain\":[0.0,1.0],\"title\":{\"text\":\"Avg\"}},\"legend\":{\"tracegroupgap\":0},\"margin\":{\"t\":60},\"barmode\":\"relative\"},                        {\"responsive\": true}                    ).then(function(){\n",
       "                            \n",
       "var gd = document.getElementById('68561411-84b0-4d79-a607-577ee37717d3');\n",
       "var x = new MutationObserver(function (mutations, observer) {{\n",
       "        var display = window.getComputedStyle(gd).display;\n",
       "        if (!display || display === 'none') {{\n",
       "            console.log([gd, 'removed!']);\n",
       "            Plotly.purge(gd);\n",
       "            observer.disconnect();\n",
       "        }}\n",
       "}});\n",
       "\n",
       "// Listen for the removal of the full notebook cells\n",
       "var notebookContainer = gd.closest('#notebook-container');\n",
       "if (notebookContainer) {{\n",
       "    x.observe(notebookContainer, {childList: true});\n",
       "}}\n",
       "\n",
       "// Listen for the clearing of the current output cell\n",
       "var outputEl = gd.closest('.output');\n",
       "if (outputEl) {{\n",
       "    x.observe(outputEl, {childList: true});\n",
       "}}\n",
       "\n",
       "                        })                };                });            </script>        </div>"
      ]
     },
     "metadata": {},
     "output_type": "display_data"
    }
   ],
   "source": [
    "fig = px.bar(df_avg, x='title', y='Avg')\n",
    "fig.show()"
   ]
  },
  {
   "cell_type": "markdown",
   "id": "08a95382",
   "metadata": {},
   "source": [
    "## Scatter Plot for View vs Comments"
   ]
  },
  {
   "cell_type": "code",
   "execution_count": 53,
   "id": "e8965917",
   "metadata": {},
   "outputs": [
    {
     "data": {
      "text/html": [
       "<div>\n",
       "<style scoped>\n",
       "    .dataframe tbody tr th:only-of-type {\n",
       "        vertical-align: middle;\n",
       "    }\n",
       "\n",
       "    .dataframe tbody tr th {\n",
       "        vertical-align: top;\n",
       "    }\n",
       "\n",
       "    .dataframe thead th {\n",
       "        text-align: right;\n",
       "    }\n",
       "</style>\n",
       "<table border=\"1\" class=\"dataframe\">\n",
       "  <thead>\n",
       "    <tr style=\"text-align: right;\">\n",
       "      <th></th>\n",
       "      <th>Unnamed: 0</th>\n",
       "      <th>channel_id</th>\n",
       "      <th>video_id</th>\n",
       "      <th>title</th>\n",
       "      <th>url</th>\n",
       "      <th>description</th>\n",
       "      <th>duration</th>\n",
       "      <th>published_at</th>\n",
       "      <th>thumbnails</th>\n",
       "      <th>view_count</th>\n",
       "      <th>like_count</th>\n",
       "      <th>comment_count</th>\n",
       "      <th>brands</th>\n",
       "      <th>NoOf_days</th>\n",
       "      <th>total impressions</th>\n",
       "    </tr>\n",
       "  </thead>\n",
       "  <tbody>\n",
       "    <tr>\n",
       "      <th>0</th>\n",
       "      <td>0</td>\n",
       "      <td>UCvpfclapgcuJo0M_x65pfRw</td>\n",
       "      <td>bkkIvu1y0LU</td>\n",
       "      <td>Samsung Galaxy F54 First Impressions!</td>\n",
       "      <td>https://www.youtube.com/watch?v=bkkIvu1y0LU</td>\n",
       "      <td>Samsung has just launched the new Galaxy F54 a...</td>\n",
       "      <td>05:28:00</td>\n",
       "      <td>2023-06-06</td>\n",
       "      <td>https://i.ytimg.com/vi_webp/bkkIvu1y0LU/maxres...</td>\n",
       "      <td>87286</td>\n",
       "      <td>3476</td>\n",
       "      <td>675</td>\n",
       "      <td>Samsung</td>\n",
       "      <td>14</td>\n",
       "      <td>4151</td>\n",
       "    </tr>\n",
       "    <tr>\n",
       "      <th>1</th>\n",
       "      <td>1</td>\n",
       "      <td>UCvpfclapgcuJo0M_x65pfRw</td>\n",
       "      <td>J3igzbaOF_M</td>\n",
       "      <td>7 Dangerous Android Settings You Need to Turn ...</td>\n",
       "      <td>https://www.youtube.com/watch?v=J3igzbaOF_M</td>\n",
       "      <td>If you are an Android user, this video is a mu...</td>\n",
       "      <td>04:18:00</td>\n",
       "      <td>2023-06-03</td>\n",
       "      <td>https://i.ytimg.com/vi_webp/J3igzbaOF_M/maxres...</td>\n",
       "      <td>217477</td>\n",
       "      <td>12693</td>\n",
       "      <td>373</td>\n",
       "      <td>Other</td>\n",
       "      <td>17</td>\n",
       "      <td>13066</td>\n",
       "    </tr>\n",
       "    <tr>\n",
       "      <th>2</th>\n",
       "      <td>2</td>\n",
       "      <td>UCvpfclapgcuJo0M_x65pfRw</td>\n",
       "      <td>LuThmQCAnZc</td>\n",
       "      <td>QLED vs LED TV at 30K: Don't Make This Mistake!</td>\n",
       "      <td>https://www.youtube.com/watch?v=LuThmQCAnZc</td>\n",
       "      <td>Everyone has a perception that QLED TVs are ex...</td>\n",
       "      <td>05:29:00</td>\n",
       "      <td>2023-05-30</td>\n",
       "      <td>https://i.ytimg.com/vi_webp/LuThmQCAnZc/maxres...</td>\n",
       "      <td>124445</td>\n",
       "      <td>4452</td>\n",
       "      <td>295</td>\n",
       "      <td>Other</td>\n",
       "      <td>21</td>\n",
       "      <td>4747</td>\n",
       "    </tr>\n",
       "    <tr>\n",
       "      <th>3</th>\n",
       "      <td>3</td>\n",
       "      <td>UCvpfclapgcuJo0M_x65pfRw</td>\n",
       "      <td>dPLj_lId_zY</td>\n",
       "      <td>Lava Agni 2 Review: The Good, The Bad, The Best!</td>\n",
       "      <td>https://www.youtube.com/watch?v=dPLj_lId_zY</td>\n",
       "      <td>The Lava Agni 2 is here and this is one hyped ...</td>\n",
       "      <td>07:31:00</td>\n",
       "      <td>2023-05-26</td>\n",
       "      <td>https://i.ytimg.com/vi_webp/dPLj_lId_zY/maxres...</td>\n",
       "      <td>168100</td>\n",
       "      <td>8885</td>\n",
       "      <td>634</td>\n",
       "      <td>Lava</td>\n",
       "      <td>25</td>\n",
       "      <td>9519</td>\n",
       "    </tr>\n",
       "    <tr>\n",
       "      <th>4</th>\n",
       "      <td>4</td>\n",
       "      <td>UCvpfclapgcuJo0M_x65pfRw</td>\n",
       "      <td>QOm4okp1J5c</td>\n",
       "      <td>Moto Edge 40: A Good Option Under 30K?</td>\n",
       "      <td>https://www.youtube.com/watch?v=QOm4okp1J5c</td>\n",
       "      <td>Motorola has launched the new Edge 40 and this...</td>\n",
       "      <td>05:58:00</td>\n",
       "      <td>2023-05-23</td>\n",
       "      <td>https://i.ytimg.com/vi_webp/QOm4okp1J5c/maxres...</td>\n",
       "      <td>271683</td>\n",
       "      <td>9591</td>\n",
       "      <td>1000</td>\n",
       "      <td>Moto</td>\n",
       "      <td>28</td>\n",
       "      <td>10591</td>\n",
       "    </tr>\n",
       "    <tr>\n",
       "      <th>5</th>\n",
       "      <td>5</td>\n",
       "      <td>UCvpfclapgcuJo0M_x65pfRw</td>\n",
       "      <td>0YoPpEIS3o4</td>\n",
       "      <td>8 Super Useful Gadgets for Students!</td>\n",
       "      <td>https://www.youtube.com/watch?v=0YoPpEIS3o4</td>\n",
       "      <td>The best gadgets for students! These are 8 sup...</td>\n",
       "      <td>05:09:00</td>\n",
       "      <td>2023-05-20</td>\n",
       "      <td>https://i.ytimg.com/vi_webp/0YoPpEIS3o4/maxres...</td>\n",
       "      <td>370521</td>\n",
       "      <td>13169</td>\n",
       "      <td>481</td>\n",
       "      <td>Other</td>\n",
       "      <td>31</td>\n",
       "      <td>13650</td>\n",
       "    </tr>\n",
       "    <tr>\n",
       "      <th>6</th>\n",
       "      <td>6</td>\n",
       "      <td>UCvpfclapgcuJo0M_x65pfRw</td>\n",
       "      <td>MDigRlLPlgc</td>\n",
       "      <td>ASUS ROG Strix G18: Core i9 + 4070 at Great Pr...</td>\n",
       "      <td>https://www.youtube.com/watch?v=MDigRlLPlgc</td>\n",
       "      <td>ASUS has launched of number of new ROG laptops...</td>\n",
       "      <td>05:33:00</td>\n",
       "      <td>2023-05-17</td>\n",
       "      <td>https://i.ytimg.com/vi_webp/MDigRlLPlgc/maxres...</td>\n",
       "      <td>77679</td>\n",
       "      <td>2743</td>\n",
       "      <td>208</td>\n",
       "      <td>ASUS</td>\n",
       "      <td>34</td>\n",
       "      <td>2951</td>\n",
       "    </tr>\n",
       "    <tr>\n",
       "      <th>7</th>\n",
       "      <td>7</td>\n",
       "      <td>UCvpfclapgcuJo0M_x65pfRw</td>\n",
       "      <td>Q65Fn1FZwdE</td>\n",
       "      <td>Dell G16 (2023): High Performance, Better Price!</td>\n",
       "      <td>https://www.youtube.com/watch?v=Q65Fn1FZwdE</td>\n",
       "      <td>The new Dell G16 7630 has arrived and it bring...</td>\n",
       "      <td>05:03:00</td>\n",
       "      <td>2023-05-15</td>\n",
       "      <td>https://i.ytimg.com/vi_webp/Q65Fn1FZwdE/maxres...</td>\n",
       "      <td>103402</td>\n",
       "      <td>3607</td>\n",
       "      <td>285</td>\n",
       "      <td>Dell</td>\n",
       "      <td>36</td>\n",
       "      <td>3892</td>\n",
       "    </tr>\n",
       "    <tr>\n",
       "      <th>8</th>\n",
       "      <td>8</td>\n",
       "      <td>UCvpfclapgcuJo0M_x65pfRw</td>\n",
       "      <td>lUDozITit6w</td>\n",
       "      <td>Pixel 7a: Google Fixed It!</td>\n",
       "      <td>https://www.youtube.com/watch?v=lUDozITit6w</td>\n",
       "      <td>Google has just launched the Pixel 7a and this...</td>\n",
       "      <td>06:31:00</td>\n",
       "      <td>2023-05-10</td>\n",
       "      <td>https://i.ytimg.com/vi_webp/lUDozITit6w/maxres...</td>\n",
       "      <td>321738</td>\n",
       "      <td>11271</td>\n",
       "      <td>1600</td>\n",
       "      <td>Google</td>\n",
       "      <td>41</td>\n",
       "      <td>12871</td>\n",
       "    </tr>\n",
       "    <tr>\n",
       "      <th>9</th>\n",
       "      <td>9</td>\n",
       "      <td>UCvpfclapgcuJo0M_x65pfRw</td>\n",
       "      <td>0d5vOvvP8qk</td>\n",
       "      <td>POCO F5: Snapdragon 7+ Gen 2 is ðŸ”¥</td>\n",
       "      <td>https://www.youtube.com/watch?v=0d5vOvvP8qk</td>\n",
       "      <td>The new POCO F5 is here and it's the first pho...</td>\n",
       "      <td>06:12:00</td>\n",
       "      <td>2023-05-09</td>\n",
       "      <td>https://i.ytimg.com/vi_webp/0d5vOvvP8qk/maxres...</td>\n",
       "      <td>310079</td>\n",
       "      <td>10944</td>\n",
       "      <td>1400</td>\n",
       "      <td>Other</td>\n",
       "      <td>42</td>\n",
       "      <td>12344</td>\n",
       "    </tr>\n",
       "    <tr>\n",
       "      <th>10</th>\n",
       "      <td>10</td>\n",
       "      <td>UCvpfclapgcuJo0M_x65pfRw</td>\n",
       "      <td>JdgWV-e-RR8</td>\n",
       "      <td>ASUS Zenbook Pro 14 Duo (2023): Dual Screens G...</td>\n",
       "      <td>https://www.youtube.com/watch?v=JdgWV-e-RR8</td>\n",
       "      <td>This is the new ASUS Zenbook Pro 14 Duo OLED 2...</td>\n",
       "      <td>05:53:00</td>\n",
       "      <td>2023-05-08</td>\n",
       "      <td>https://i.ytimg.com/vi_webp/JdgWV-e-RR8/maxres...</td>\n",
       "      <td>85160</td>\n",
       "      <td>3031</td>\n",
       "      <td>123</td>\n",
       "      <td>ASUS</td>\n",
       "      <td>43</td>\n",
       "      <td>3154</td>\n",
       "    </tr>\n",
       "    <tr>\n",
       "      <th>11</th>\n",
       "      <td>11</td>\n",
       "      <td>UCvpfclapgcuJo0M_x65pfRw</td>\n",
       "      <td>3MZ6aTpFrE0</td>\n",
       "      <td>15 Quality Deals on Flipkart &amp; Amazon Right Now!</td>\n",
       "      <td>https://www.youtube.com/watch?v=3MZ6aTpFrE0</td>\n",
       "      <td>In this video, we show you 15 quality deals on...</td>\n",
       "      <td>04:56:00</td>\n",
       "      <td>2023-05-04</td>\n",
       "      <td>https://i.ytimg.com/vi_webp/3MZ6aTpFrE0/maxres...</td>\n",
       "      <td>408625</td>\n",
       "      <td>12167</td>\n",
       "      <td>957</td>\n",
       "      <td>Other</td>\n",
       "      <td>47</td>\n",
       "      <td>13124</td>\n",
       "    </tr>\n",
       "    <tr>\n",
       "      <th>12</th>\n",
       "      <td>12</td>\n",
       "      <td>UCvpfclapgcuJo0M_x65pfRw</td>\n",
       "      <td>Gb_i_W7Ko3Y</td>\n",
       "      <td>The Best Phone Under â‚¹20,000!</td>\n",
       "      <td>https://www.youtube.com/watch?v=Gb_i_W7Ko3Y</td>\n",
       "      <td>This is not your usual best phones video, wher...</td>\n",
       "      <td>04:48:00</td>\n",
       "      <td>2023-05-03</td>\n",
       "      <td>https://i.ytimg.com/vi_webp/Gb_i_W7Ko3Y/maxres...</td>\n",
       "      <td>1227866</td>\n",
       "      <td>33642</td>\n",
       "      <td>1800</td>\n",
       "      <td>Other</td>\n",
       "      <td>48</td>\n",
       "      <td>35442</td>\n",
       "    </tr>\n",
       "    <tr>\n",
       "      <th>13</th>\n",
       "      <td>13</td>\n",
       "      <td>UCvpfclapgcuJo0M_x65pfRw</td>\n",
       "      <td>YOIw5r0qEGo</td>\n",
       "      <td>Tecno Phantom V Fold: Finally, An Affordable F...</td>\n",
       "      <td>https://www.youtube.com/watch?v=YOIw5r0qEGo</td>\n",
       "      <td>Tecno recently launched its first foldable pho...</td>\n",
       "      <td>06:07:00</td>\n",
       "      <td>2023-04-29</td>\n",
       "      <td>https://i.ytimg.com/vi_webp/YOIw5r0qEGo/maxres...</td>\n",
       "      <td>102182</td>\n",
       "      <td>3258</td>\n",
       "      <td>206</td>\n",
       "      <td>Other</td>\n",
       "      <td>52</td>\n",
       "      <td>3464</td>\n",
       "    </tr>\n",
       "    <tr>\n",
       "      <th>14</th>\n",
       "      <td>14</td>\n",
       "      <td>UCvpfclapgcuJo0M_x65pfRw</td>\n",
       "      <td>aURzYhwsyHg</td>\n",
       "      <td>OnePlus Pad: Impressive Android Tablet!</td>\n",
       "      <td>https://www.youtube.com/watch?v=aURzYhwsyHg</td>\n",
       "      <td>OnePlus' first tablet is here, the OnePlus Pad...</td>\n",
       "      <td>06:55:00</td>\n",
       "      <td>2023-04-28</td>\n",
       "      <td>https://i.ytimg.com/vi_webp/aURzYhwsyHg/maxres...</td>\n",
       "      <td>408002</td>\n",
       "      <td>9690</td>\n",
       "      <td>820</td>\n",
       "      <td>OnePlus</td>\n",
       "      <td>53</td>\n",
       "      <td>10510</td>\n",
       "    </tr>\n",
       "    <tr>\n",
       "      <th>15</th>\n",
       "      <td>15</td>\n",
       "      <td>UCvpfclapgcuJo0M_x65pfRw</td>\n",
       "      <td>KBTe0kJM1QY</td>\n",
       "      <td>7 Awesome Gadgets for Home!</td>\n",
       "      <td>https://www.youtube.com/watch?v=KBTe0kJM1QY</td>\n",
       "      <td>Check out the free Ice Cream Photo Editor here...</td>\n",
       "      <td>05:24:00</td>\n",
       "      <td>2023-04-26</td>\n",
       "      <td>https://i.ytimg.com/vi_webp/KBTe0kJM1QY/maxres...</td>\n",
       "      <td>683052</td>\n",
       "      <td>23050</td>\n",
       "      <td>354</td>\n",
       "      <td>Other</td>\n",
       "      <td>55</td>\n",
       "      <td>23404</td>\n",
       "    </tr>\n",
       "    <tr>\n",
       "      <th>16</th>\n",
       "      <td>16</td>\n",
       "      <td>UCvpfclapgcuJo0M_x65pfRw</td>\n",
       "      <td>r4yegw_rgrc</td>\n",
       "      <td>ASUS ZenBook S13 OLED: The Ultra Light Windows...</td>\n",
       "      <td>https://www.youtube.com/watch?v=r4yegw_rgrc</td>\n",
       "      <td>The brand new ASUS Zenbook S13 OLED is here an...</td>\n",
       "      <td>05:14:00</td>\n",
       "      <td>2023-04-21</td>\n",
       "      <td>https://i.ytimg.com/vi_webp/r4yegw_rgrc/maxres...</td>\n",
       "      <td>120612</td>\n",
       "      <td>4400</td>\n",
       "      <td>252</td>\n",
       "      <td>ASUS</td>\n",
       "      <td>60</td>\n",
       "      <td>4652</td>\n",
       "    </tr>\n",
       "    <tr>\n",
       "      <th>17</th>\n",
       "      <td>17</td>\n",
       "      <td>UCvpfclapgcuJo0M_x65pfRw</td>\n",
       "      <td>3i0HG5kdAno</td>\n",
       "      <td>The Best Laptop Deal for Students!</td>\n",
       "      <td>https://www.youtube.com/watch?v=3i0HG5kdAno</td>\n",
       "      <td>How about a laptop deal under 35,000 rupees th...</td>\n",
       "      <td>04:47:00</td>\n",
       "      <td>2023-04-19</td>\n",
       "      <td>https://i.ytimg.com/vi_webp/3i0HG5kdAno/maxres...</td>\n",
       "      <td>289383</td>\n",
       "      <td>8714</td>\n",
       "      <td>509</td>\n",
       "      <td>Other</td>\n",
       "      <td>62</td>\n",
       "      <td>9223</td>\n",
       "    </tr>\n",
       "    <tr>\n",
       "      <th>18</th>\n",
       "      <td>18</td>\n",
       "      <td>UCvpfclapgcuJo0M_x65pfRw</td>\n",
       "      <td>BrtEhtO7mMk</td>\n",
       "      <td>The Best Phone Deal Right Now!</td>\n",
       "      <td>https://www.youtube.com/watch?v=BrtEhtO7mMk</td>\n",
       "      <td>A flagship phone from last year with Snapdrago...</td>\n",
       "      <td>05:10:00</td>\n",
       "      <td>2023-04-16</td>\n",
       "      <td>https://i.ytimg.com/vi_webp/BrtEhtO7mMk/maxres...</td>\n",
       "      <td>562316</td>\n",
       "      <td>17036</td>\n",
       "      <td>1100</td>\n",
       "      <td>Other</td>\n",
       "      <td>65</td>\n",
       "      <td>18136</td>\n",
       "    </tr>\n",
       "    <tr>\n",
       "      <th>19</th>\n",
       "      <td>19</td>\n",
       "      <td>UCvpfclapgcuJo0M_x65pfRw</td>\n",
       "      <td>eOT8GyDx9EY</td>\n",
       "      <td>Dell Inspiron 16 2-in-1 (2023): Really Good Ha...</td>\n",
       "      <td>https://www.youtube.com/watch?v=eOT8GyDx9EY</td>\n",
       "      <td>The all new Dell Inspiron 16 7630 is here and ...</td>\n",
       "      <td>05:29:00</td>\n",
       "      <td>2023-04-14</td>\n",
       "      <td>https://i.ytimg.com/vi_webp/eOT8GyDx9EY/maxres...</td>\n",
       "      <td>88708</td>\n",
       "      <td>2662</td>\n",
       "      <td>187</td>\n",
       "      <td>Dell</td>\n",
       "      <td>67</td>\n",
       "      <td>2849</td>\n",
       "    </tr>\n",
       "  </tbody>\n",
       "</table>\n",
       "</div>"
      ],
      "text/plain": [
       "    Unnamed: 0                channel_id     video_id  \\\n",
       "0            0  UCvpfclapgcuJo0M_x65pfRw  bkkIvu1y0LU   \n",
       "1            1  UCvpfclapgcuJo0M_x65pfRw  J3igzbaOF_M   \n",
       "2            2  UCvpfclapgcuJo0M_x65pfRw  LuThmQCAnZc   \n",
       "3            3  UCvpfclapgcuJo0M_x65pfRw  dPLj_lId_zY   \n",
       "4            4  UCvpfclapgcuJo0M_x65pfRw  QOm4okp1J5c   \n",
       "5            5  UCvpfclapgcuJo0M_x65pfRw  0YoPpEIS3o4   \n",
       "6            6  UCvpfclapgcuJo0M_x65pfRw  MDigRlLPlgc   \n",
       "7            7  UCvpfclapgcuJo0M_x65pfRw  Q65Fn1FZwdE   \n",
       "8            8  UCvpfclapgcuJo0M_x65pfRw  lUDozITit6w   \n",
       "9            9  UCvpfclapgcuJo0M_x65pfRw  0d5vOvvP8qk   \n",
       "10          10  UCvpfclapgcuJo0M_x65pfRw  JdgWV-e-RR8   \n",
       "11          11  UCvpfclapgcuJo0M_x65pfRw  3MZ6aTpFrE0   \n",
       "12          12  UCvpfclapgcuJo0M_x65pfRw  Gb_i_W7Ko3Y   \n",
       "13          13  UCvpfclapgcuJo0M_x65pfRw  YOIw5r0qEGo   \n",
       "14          14  UCvpfclapgcuJo0M_x65pfRw  aURzYhwsyHg   \n",
       "15          15  UCvpfclapgcuJo0M_x65pfRw  KBTe0kJM1QY   \n",
       "16          16  UCvpfclapgcuJo0M_x65pfRw  r4yegw_rgrc   \n",
       "17          17  UCvpfclapgcuJo0M_x65pfRw  3i0HG5kdAno   \n",
       "18          18  UCvpfclapgcuJo0M_x65pfRw  BrtEhtO7mMk   \n",
       "19          19  UCvpfclapgcuJo0M_x65pfRw  eOT8GyDx9EY   \n",
       "\n",
       "                                                title  \\\n",
       "0               Samsung Galaxy F54 First Impressions!   \n",
       "1   7 Dangerous Android Settings You Need to Turn ...   \n",
       "2     QLED vs LED TV at 30K: Don't Make This Mistake!   \n",
       "3    Lava Agni 2 Review: The Good, The Bad, The Best!   \n",
       "4              Moto Edge 40: A Good Option Under 30K?   \n",
       "5                8 Super Useful Gadgets for Students!   \n",
       "6   ASUS ROG Strix G18: Core i9 + 4070 at Great Pr...   \n",
       "7    Dell G16 (2023): High Performance, Better Price!   \n",
       "8                          Pixel 7a: Google Fixed It!   \n",
       "9                POCO F5: Snapdragon 7+ Gen 2 is ðŸ”¥   \n",
       "10  ASUS Zenbook Pro 14 Duo (2023): Dual Screens G...   \n",
       "11   15 Quality Deals on Flipkart & Amazon Right Now!   \n",
       "12                    The Best Phone Under â‚¹20,000!   \n",
       "13  Tecno Phantom V Fold: Finally, An Affordable F...   \n",
       "14            OnePlus Pad: Impressive Android Tablet!   \n",
       "15                        7 Awesome Gadgets for Home!   \n",
       "16  ASUS ZenBook S13 OLED: The Ultra Light Windows...   \n",
       "17                 The Best Laptop Deal for Students!   \n",
       "18                     The Best Phone Deal Right Now!   \n",
       "19  Dell Inspiron 16 2-in-1 (2023): Really Good Ha...   \n",
       "\n",
       "                                            url  \\\n",
       "0   https://www.youtube.com/watch?v=bkkIvu1y0LU   \n",
       "1   https://www.youtube.com/watch?v=J3igzbaOF_M   \n",
       "2   https://www.youtube.com/watch?v=LuThmQCAnZc   \n",
       "3   https://www.youtube.com/watch?v=dPLj_lId_zY   \n",
       "4   https://www.youtube.com/watch?v=QOm4okp1J5c   \n",
       "5   https://www.youtube.com/watch?v=0YoPpEIS3o4   \n",
       "6   https://www.youtube.com/watch?v=MDigRlLPlgc   \n",
       "7   https://www.youtube.com/watch?v=Q65Fn1FZwdE   \n",
       "8   https://www.youtube.com/watch?v=lUDozITit6w   \n",
       "9   https://www.youtube.com/watch?v=0d5vOvvP8qk   \n",
       "10  https://www.youtube.com/watch?v=JdgWV-e-RR8   \n",
       "11  https://www.youtube.com/watch?v=3MZ6aTpFrE0   \n",
       "12  https://www.youtube.com/watch?v=Gb_i_W7Ko3Y   \n",
       "13  https://www.youtube.com/watch?v=YOIw5r0qEGo   \n",
       "14  https://www.youtube.com/watch?v=aURzYhwsyHg   \n",
       "15  https://www.youtube.com/watch?v=KBTe0kJM1QY   \n",
       "16  https://www.youtube.com/watch?v=r4yegw_rgrc   \n",
       "17  https://www.youtube.com/watch?v=3i0HG5kdAno   \n",
       "18  https://www.youtube.com/watch?v=BrtEhtO7mMk   \n",
       "19  https://www.youtube.com/watch?v=eOT8GyDx9EY   \n",
       "\n",
       "                                          description  duration published_at  \\\n",
       "0   Samsung has just launched the new Galaxy F54 a...  05:28:00   2023-06-06   \n",
       "1   If you are an Android user, this video is a mu...  04:18:00   2023-06-03   \n",
       "2   Everyone has a perception that QLED TVs are ex...  05:29:00   2023-05-30   \n",
       "3   The Lava Agni 2 is here and this is one hyped ...  07:31:00   2023-05-26   \n",
       "4   Motorola has launched the new Edge 40 and this...  05:58:00   2023-05-23   \n",
       "5   The best gadgets for students! These are 8 sup...  05:09:00   2023-05-20   \n",
       "6   ASUS has launched of number of new ROG laptops...  05:33:00   2023-05-17   \n",
       "7   The new Dell G16 7630 has arrived and it bring...  05:03:00   2023-05-15   \n",
       "8   Google has just launched the Pixel 7a and this...  06:31:00   2023-05-10   \n",
       "9   The new POCO F5 is here and it's the first pho...  06:12:00   2023-05-09   \n",
       "10  This is the new ASUS Zenbook Pro 14 Duo OLED 2...  05:53:00   2023-05-08   \n",
       "11  In this video, we show you 15 quality deals on...  04:56:00   2023-05-04   \n",
       "12  This is not your usual best phones video, wher...  04:48:00   2023-05-03   \n",
       "13  Tecno recently launched its first foldable pho...  06:07:00   2023-04-29   \n",
       "14  OnePlus' first tablet is here, the OnePlus Pad...  06:55:00   2023-04-28   \n",
       "15  Check out the free Ice Cream Photo Editor here...  05:24:00   2023-04-26   \n",
       "16  The brand new ASUS Zenbook S13 OLED is here an...  05:14:00   2023-04-21   \n",
       "17  How about a laptop deal under 35,000 rupees th...  04:47:00   2023-04-19   \n",
       "18  A flagship phone from last year with Snapdrago...  05:10:00   2023-04-16   \n",
       "19  The all new Dell Inspiron 16 7630 is here and ...  05:29:00   2023-04-14   \n",
       "\n",
       "                                           thumbnails  view_count  like_count  \\\n",
       "0   https://i.ytimg.com/vi_webp/bkkIvu1y0LU/maxres...       87286        3476   \n",
       "1   https://i.ytimg.com/vi_webp/J3igzbaOF_M/maxres...      217477       12693   \n",
       "2   https://i.ytimg.com/vi_webp/LuThmQCAnZc/maxres...      124445        4452   \n",
       "3   https://i.ytimg.com/vi_webp/dPLj_lId_zY/maxres...      168100        8885   \n",
       "4   https://i.ytimg.com/vi_webp/QOm4okp1J5c/maxres...      271683        9591   \n",
       "5   https://i.ytimg.com/vi_webp/0YoPpEIS3o4/maxres...      370521       13169   \n",
       "6   https://i.ytimg.com/vi_webp/MDigRlLPlgc/maxres...       77679        2743   \n",
       "7   https://i.ytimg.com/vi_webp/Q65Fn1FZwdE/maxres...      103402        3607   \n",
       "8   https://i.ytimg.com/vi_webp/lUDozITit6w/maxres...      321738       11271   \n",
       "9   https://i.ytimg.com/vi_webp/0d5vOvvP8qk/maxres...      310079       10944   \n",
       "10  https://i.ytimg.com/vi_webp/JdgWV-e-RR8/maxres...       85160        3031   \n",
       "11  https://i.ytimg.com/vi_webp/3MZ6aTpFrE0/maxres...      408625       12167   \n",
       "12  https://i.ytimg.com/vi_webp/Gb_i_W7Ko3Y/maxres...     1227866       33642   \n",
       "13  https://i.ytimg.com/vi_webp/YOIw5r0qEGo/maxres...      102182        3258   \n",
       "14  https://i.ytimg.com/vi_webp/aURzYhwsyHg/maxres...      408002        9690   \n",
       "15  https://i.ytimg.com/vi_webp/KBTe0kJM1QY/maxres...      683052       23050   \n",
       "16  https://i.ytimg.com/vi_webp/r4yegw_rgrc/maxres...      120612        4400   \n",
       "17  https://i.ytimg.com/vi_webp/3i0HG5kdAno/maxres...      289383        8714   \n",
       "18  https://i.ytimg.com/vi_webp/BrtEhtO7mMk/maxres...      562316       17036   \n",
       "19  https://i.ytimg.com/vi_webp/eOT8GyDx9EY/maxres...       88708        2662   \n",
       "\n",
       "    comment_count   brands  NoOf_days  total impressions  \n",
       "0             675  Samsung         14               4151  \n",
       "1             373    Other         17              13066  \n",
       "2             295    Other         21               4747  \n",
       "3             634     Lava         25               9519  \n",
       "4            1000     Moto         28              10591  \n",
       "5             481    Other         31              13650  \n",
       "6             208     ASUS         34               2951  \n",
       "7             285     Dell         36               3892  \n",
       "8            1600   Google         41              12871  \n",
       "9            1400    Other         42              12344  \n",
       "10            123     ASUS         43               3154  \n",
       "11            957    Other         47              13124  \n",
       "12           1800    Other         48              35442  \n",
       "13            206    Other         52               3464  \n",
       "14            820  OnePlus         53              10510  \n",
       "15            354    Other         55              23404  \n",
       "16            252     ASUS         60               4652  \n",
       "17            509    Other         62               9223  \n",
       "18           1100    Other         65              18136  \n",
       "19            187     Dell         67               2849  "
      ]
     },
     "execution_count": 53,
     "metadata": {},
     "output_type": "execute_result"
    }
   ],
   "source": [
    "df_group1"
   ]
  },
  {
   "cell_type": "code",
   "execution_count": 55,
   "id": "065a4930",
   "metadata": {},
   "outputs": [
    {
     "data": {
      "application/vnd.plotly.v1+json": {
       "config": {
        "plotlyServerURL": "https://plot.ly"
       },
       "data": [
        {
         "mode": "markers",
         "type": "scatter",
         "x": [
          87286,
          217477,
          124445,
          168100,
          271683,
          370521,
          77679,
          103402,
          321738,
          310079,
          85160,
          408625,
          1227866,
          102182,
          408002,
          683052,
          120612,
          289383,
          562316,
          88708
         ],
         "y": [
          4151,
          13066,
          4747,
          9519,
          10591,
          13650,
          2951,
          3892,
          12871,
          12344,
          3154,
          13124,
          35442,
          3464,
          10510,
          23404,
          4652,
          9223,
          18136,
          2849
         ]
        }
       ],
       "layout": {
        "template": {
         "data": {
          "bar": [
           {
            "error_x": {
             "color": "#2a3f5f"
            },
            "error_y": {
             "color": "#2a3f5f"
            },
            "marker": {
             "line": {
              "color": "#E5ECF6",
              "width": 0.5
             },
             "pattern": {
              "fillmode": "overlay",
              "size": 10,
              "solidity": 0.2
             }
            },
            "type": "bar"
           }
          ],
          "barpolar": [
           {
            "marker": {
             "line": {
              "color": "#E5ECF6",
              "width": 0.5
             },
             "pattern": {
              "fillmode": "overlay",
              "size": 10,
              "solidity": 0.2
             }
            },
            "type": "barpolar"
           }
          ],
          "carpet": [
           {
            "aaxis": {
             "endlinecolor": "#2a3f5f",
             "gridcolor": "white",
             "linecolor": "white",
             "minorgridcolor": "white",
             "startlinecolor": "#2a3f5f"
            },
            "baxis": {
             "endlinecolor": "#2a3f5f",
             "gridcolor": "white",
             "linecolor": "white",
             "minorgridcolor": "white",
             "startlinecolor": "#2a3f5f"
            },
            "type": "carpet"
           }
          ],
          "choropleth": [
           {
            "colorbar": {
             "outlinewidth": 0,
             "ticks": ""
            },
            "type": "choropleth"
           }
          ],
          "contour": [
           {
            "colorbar": {
             "outlinewidth": 0,
             "ticks": ""
            },
            "colorscale": [
             [
              0,
              "#0d0887"
             ],
             [
              0.1111111111111111,
              "#46039f"
             ],
             [
              0.2222222222222222,
              "#7201a8"
             ],
             [
              0.3333333333333333,
              "#9c179e"
             ],
             [
              0.4444444444444444,
              "#bd3786"
             ],
             [
              0.5555555555555556,
              "#d8576b"
             ],
             [
              0.6666666666666666,
              "#ed7953"
             ],
             [
              0.7777777777777778,
              "#fb9f3a"
             ],
             [
              0.8888888888888888,
              "#fdca26"
             ],
             [
              1,
              "#f0f921"
             ]
            ],
            "type": "contour"
           }
          ],
          "contourcarpet": [
           {
            "colorbar": {
             "outlinewidth": 0,
             "ticks": ""
            },
            "type": "contourcarpet"
           }
          ],
          "heatmap": [
           {
            "colorbar": {
             "outlinewidth": 0,
             "ticks": ""
            },
            "colorscale": [
             [
              0,
              "#0d0887"
             ],
             [
              0.1111111111111111,
              "#46039f"
             ],
             [
              0.2222222222222222,
              "#7201a8"
             ],
             [
              0.3333333333333333,
              "#9c179e"
             ],
             [
              0.4444444444444444,
              "#bd3786"
             ],
             [
              0.5555555555555556,
              "#d8576b"
             ],
             [
              0.6666666666666666,
              "#ed7953"
             ],
             [
              0.7777777777777778,
              "#fb9f3a"
             ],
             [
              0.8888888888888888,
              "#fdca26"
             ],
             [
              1,
              "#f0f921"
             ]
            ],
            "type": "heatmap"
           }
          ],
          "heatmapgl": [
           {
            "colorbar": {
             "outlinewidth": 0,
             "ticks": ""
            },
            "colorscale": [
             [
              0,
              "#0d0887"
             ],
             [
              0.1111111111111111,
              "#46039f"
             ],
             [
              0.2222222222222222,
              "#7201a8"
             ],
             [
              0.3333333333333333,
              "#9c179e"
             ],
             [
              0.4444444444444444,
              "#bd3786"
             ],
             [
              0.5555555555555556,
              "#d8576b"
             ],
             [
              0.6666666666666666,
              "#ed7953"
             ],
             [
              0.7777777777777778,
              "#fb9f3a"
             ],
             [
              0.8888888888888888,
              "#fdca26"
             ],
             [
              1,
              "#f0f921"
             ]
            ],
            "type": "heatmapgl"
           }
          ],
          "histogram": [
           {
            "marker": {
             "pattern": {
              "fillmode": "overlay",
              "size": 10,
              "solidity": 0.2
             }
            },
            "type": "histogram"
           }
          ],
          "histogram2d": [
           {
            "colorbar": {
             "outlinewidth": 0,
             "ticks": ""
            },
            "colorscale": [
             [
              0,
              "#0d0887"
             ],
             [
              0.1111111111111111,
              "#46039f"
             ],
             [
              0.2222222222222222,
              "#7201a8"
             ],
             [
              0.3333333333333333,
              "#9c179e"
             ],
             [
              0.4444444444444444,
              "#bd3786"
             ],
             [
              0.5555555555555556,
              "#d8576b"
             ],
             [
              0.6666666666666666,
              "#ed7953"
             ],
             [
              0.7777777777777778,
              "#fb9f3a"
             ],
             [
              0.8888888888888888,
              "#fdca26"
             ],
             [
              1,
              "#f0f921"
             ]
            ],
            "type": "histogram2d"
           }
          ],
          "histogram2dcontour": [
           {
            "colorbar": {
             "outlinewidth": 0,
             "ticks": ""
            },
            "colorscale": [
             [
              0,
              "#0d0887"
             ],
             [
              0.1111111111111111,
              "#46039f"
             ],
             [
              0.2222222222222222,
              "#7201a8"
             ],
             [
              0.3333333333333333,
              "#9c179e"
             ],
             [
              0.4444444444444444,
              "#bd3786"
             ],
             [
              0.5555555555555556,
              "#d8576b"
             ],
             [
              0.6666666666666666,
              "#ed7953"
             ],
             [
              0.7777777777777778,
              "#fb9f3a"
             ],
             [
              0.8888888888888888,
              "#fdca26"
             ],
             [
              1,
              "#f0f921"
             ]
            ],
            "type": "histogram2dcontour"
           }
          ],
          "mesh3d": [
           {
            "colorbar": {
             "outlinewidth": 0,
             "ticks": ""
            },
            "type": "mesh3d"
           }
          ],
          "parcoords": [
           {
            "line": {
             "colorbar": {
              "outlinewidth": 0,
              "ticks": ""
             }
            },
            "type": "parcoords"
           }
          ],
          "pie": [
           {
            "automargin": true,
            "type": "pie"
           }
          ],
          "scatter": [
           {
            "fillpattern": {
             "fillmode": "overlay",
             "size": 10,
             "solidity": 0.2
            },
            "type": "scatter"
           }
          ],
          "scatter3d": [
           {
            "line": {
             "colorbar": {
              "outlinewidth": 0,
              "ticks": ""
             }
            },
            "marker": {
             "colorbar": {
              "outlinewidth": 0,
              "ticks": ""
             }
            },
            "type": "scatter3d"
           }
          ],
          "scattercarpet": [
           {
            "marker": {
             "colorbar": {
              "outlinewidth": 0,
              "ticks": ""
             }
            },
            "type": "scattercarpet"
           }
          ],
          "scattergeo": [
           {
            "marker": {
             "colorbar": {
              "outlinewidth": 0,
              "ticks": ""
             }
            },
            "type": "scattergeo"
           }
          ],
          "scattergl": [
           {
            "marker": {
             "colorbar": {
              "outlinewidth": 0,
              "ticks": ""
             }
            },
            "type": "scattergl"
           }
          ],
          "scattermapbox": [
           {
            "marker": {
             "colorbar": {
              "outlinewidth": 0,
              "ticks": ""
             }
            },
            "type": "scattermapbox"
           }
          ],
          "scatterpolar": [
           {
            "marker": {
             "colorbar": {
              "outlinewidth": 0,
              "ticks": ""
             }
            },
            "type": "scatterpolar"
           }
          ],
          "scatterpolargl": [
           {
            "marker": {
             "colorbar": {
              "outlinewidth": 0,
              "ticks": ""
             }
            },
            "type": "scatterpolargl"
           }
          ],
          "scatterternary": [
           {
            "marker": {
             "colorbar": {
              "outlinewidth": 0,
              "ticks": ""
             }
            },
            "type": "scatterternary"
           }
          ],
          "surface": [
           {
            "colorbar": {
             "outlinewidth": 0,
             "ticks": ""
            },
            "colorscale": [
             [
              0,
              "#0d0887"
             ],
             [
              0.1111111111111111,
              "#46039f"
             ],
             [
              0.2222222222222222,
              "#7201a8"
             ],
             [
              0.3333333333333333,
              "#9c179e"
             ],
             [
              0.4444444444444444,
              "#bd3786"
             ],
             [
              0.5555555555555556,
              "#d8576b"
             ],
             [
              0.6666666666666666,
              "#ed7953"
             ],
             [
              0.7777777777777778,
              "#fb9f3a"
             ],
             [
              0.8888888888888888,
              "#fdca26"
             ],
             [
              1,
              "#f0f921"
             ]
            ],
            "type": "surface"
           }
          ],
          "table": [
           {
            "cells": {
             "fill": {
              "color": "#EBF0F8"
             },
             "line": {
              "color": "white"
             }
            },
            "header": {
             "fill": {
              "color": "#C8D4E3"
             },
             "line": {
              "color": "white"
             }
            },
            "type": "table"
           }
          ]
         },
         "layout": {
          "annotationdefaults": {
           "arrowcolor": "#2a3f5f",
           "arrowhead": 0,
           "arrowwidth": 1
          },
          "autotypenumbers": "strict",
          "coloraxis": {
           "colorbar": {
            "outlinewidth": 0,
            "ticks": ""
           }
          },
          "colorscale": {
           "diverging": [
            [
             0,
             "#8e0152"
            ],
            [
             0.1,
             "#c51b7d"
            ],
            [
             0.2,
             "#de77ae"
            ],
            [
             0.3,
             "#f1b6da"
            ],
            [
             0.4,
             "#fde0ef"
            ],
            [
             0.5,
             "#f7f7f7"
            ],
            [
             0.6,
             "#e6f5d0"
            ],
            [
             0.7,
             "#b8e186"
            ],
            [
             0.8,
             "#7fbc41"
            ],
            [
             0.9,
             "#4d9221"
            ],
            [
             1,
             "#276419"
            ]
           ],
           "sequential": [
            [
             0,
             "#0d0887"
            ],
            [
             0.1111111111111111,
             "#46039f"
            ],
            [
             0.2222222222222222,
             "#7201a8"
            ],
            [
             0.3333333333333333,
             "#9c179e"
            ],
            [
             0.4444444444444444,
             "#bd3786"
            ],
            [
             0.5555555555555556,
             "#d8576b"
            ],
            [
             0.6666666666666666,
             "#ed7953"
            ],
            [
             0.7777777777777778,
             "#fb9f3a"
            ],
            [
             0.8888888888888888,
             "#fdca26"
            ],
            [
             1,
             "#f0f921"
            ]
           ],
           "sequentialminus": [
            [
             0,
             "#0d0887"
            ],
            [
             0.1111111111111111,
             "#46039f"
            ],
            [
             0.2222222222222222,
             "#7201a8"
            ],
            [
             0.3333333333333333,
             "#9c179e"
            ],
            [
             0.4444444444444444,
             "#bd3786"
            ],
            [
             0.5555555555555556,
             "#d8576b"
            ],
            [
             0.6666666666666666,
             "#ed7953"
            ],
            [
             0.7777777777777778,
             "#fb9f3a"
            ],
            [
             0.8888888888888888,
             "#fdca26"
            ],
            [
             1,
             "#f0f921"
            ]
           ]
          },
          "colorway": [
           "#636efa",
           "#EF553B",
           "#00cc96",
           "#ab63fa",
           "#FFA15A",
           "#19d3f3",
           "#FF6692",
           "#B6E880",
           "#FF97FF",
           "#FECB52"
          ],
          "font": {
           "color": "#2a3f5f"
          },
          "geo": {
           "bgcolor": "white",
           "lakecolor": "white",
           "landcolor": "#E5ECF6",
           "showlakes": true,
           "showland": true,
           "subunitcolor": "white"
          },
          "hoverlabel": {
           "align": "left"
          },
          "hovermode": "closest",
          "mapbox": {
           "style": "light"
          },
          "paper_bgcolor": "white",
          "plot_bgcolor": "#E5ECF6",
          "polar": {
           "angularaxis": {
            "gridcolor": "white",
            "linecolor": "white",
            "ticks": ""
           },
           "bgcolor": "#E5ECF6",
           "radialaxis": {
            "gridcolor": "white",
            "linecolor": "white",
            "ticks": ""
           }
          },
          "scene": {
           "xaxis": {
            "backgroundcolor": "#E5ECF6",
            "gridcolor": "white",
            "gridwidth": 2,
            "linecolor": "white",
            "showbackground": true,
            "ticks": "",
            "zerolinecolor": "white"
           },
           "yaxis": {
            "backgroundcolor": "#E5ECF6",
            "gridcolor": "white",
            "gridwidth": 2,
            "linecolor": "white",
            "showbackground": true,
            "ticks": "",
            "zerolinecolor": "white"
           },
           "zaxis": {
            "backgroundcolor": "#E5ECF6",
            "gridcolor": "white",
            "gridwidth": 2,
            "linecolor": "white",
            "showbackground": true,
            "ticks": "",
            "zerolinecolor": "white"
           }
          },
          "shapedefaults": {
           "line": {
            "color": "#2a3f5f"
           }
          },
          "ternary": {
           "aaxis": {
            "gridcolor": "white",
            "linecolor": "white",
            "ticks": ""
           },
           "baxis": {
            "gridcolor": "white",
            "linecolor": "white",
            "ticks": ""
           },
           "bgcolor": "#E5ECF6",
           "caxis": {
            "gridcolor": "white",
            "linecolor": "white",
            "ticks": ""
           }
          },
          "title": {
           "x": 0.05
          },
          "xaxis": {
           "automargin": true,
           "gridcolor": "white",
           "linecolor": "white",
           "ticks": "",
           "title": {
            "standoff": 15
           },
           "zerolinecolor": "white",
           "zerolinewidth": 2
          },
          "yaxis": {
           "automargin": true,
           "gridcolor": "white",
           "linecolor": "white",
           "ticks": "",
           "title": {
            "standoff": 15
           },
           "zerolinecolor": "white",
           "zerolinewidth": 2
          }
         }
        },
        "title": {
         "text": "Scatter Plot"
        },
        "xaxis": {
         "title": {
          "text": "Total Views"
         }
        },
        "yaxis": {
         "title": {
          "text": "Total Impressions"
         }
        }
       }
      },
      "text/html": [
       "<div>                            <div id=\"f9b53865-053c-4f88-b87d-716855a5dcf1\" class=\"plotly-graph-div\" style=\"height:525px; width:100%;\"></div>            <script type=\"text/javascript\">                require([\"plotly\"], function(Plotly) {                    window.PLOTLYENV=window.PLOTLYENV || {};                                    if (document.getElementById(\"f9b53865-053c-4f88-b87d-716855a5dcf1\")) {                    Plotly.newPlot(                        \"f9b53865-053c-4f88-b87d-716855a5dcf1\",                        [{\"mode\":\"markers\",\"x\":[87286,217477,124445,168100,271683,370521,77679,103402,321738,310079,85160,408625,1227866,102182,408002,683052,120612,289383,562316,88708],\"y\":[4151,13066,4747,9519,10591,13650,2951,3892,12871,12344,3154,13124,35442,3464,10510,23404,4652,9223,18136,2849],\"type\":\"scatter\"}],                        {\"title\":{\"text\":\"Scatter Plot\"},\"xaxis\":{\"title\":{\"text\":\"Total Views\"}},\"yaxis\":{\"title\":{\"text\":\"Total Impressions\"}},\"template\":{\"data\":{\"histogram2dcontour\":[{\"type\":\"histogram2dcontour\",\"colorbar\":{\"outlinewidth\":0,\"ticks\":\"\"},\"colorscale\":[[0.0,\"#0d0887\"],[0.1111111111111111,\"#46039f\"],[0.2222222222222222,\"#7201a8\"],[0.3333333333333333,\"#9c179e\"],[0.4444444444444444,\"#bd3786\"],[0.5555555555555556,\"#d8576b\"],[0.6666666666666666,\"#ed7953\"],[0.7777777777777778,\"#fb9f3a\"],[0.8888888888888888,\"#fdca26\"],[1.0,\"#f0f921\"]]}],\"choropleth\":[{\"type\":\"choropleth\",\"colorbar\":{\"outlinewidth\":0,\"ticks\":\"\"}}],\"histogram2d\":[{\"type\":\"histogram2d\",\"colorbar\":{\"outlinewidth\":0,\"ticks\":\"\"},\"colorscale\":[[0.0,\"#0d0887\"],[0.1111111111111111,\"#46039f\"],[0.2222222222222222,\"#7201a8\"],[0.3333333333333333,\"#9c179e\"],[0.4444444444444444,\"#bd3786\"],[0.5555555555555556,\"#d8576b\"],[0.6666666666666666,\"#ed7953\"],[0.7777777777777778,\"#fb9f3a\"],[0.8888888888888888,\"#fdca26\"],[1.0,\"#f0f921\"]]}],\"heatmap\":[{\"type\":\"heatmap\",\"colorbar\":{\"outlinewidth\":0,\"ticks\":\"\"},\"colorscale\":[[0.0,\"#0d0887\"],[0.1111111111111111,\"#46039f\"],[0.2222222222222222,\"#7201a8\"],[0.3333333333333333,\"#9c179e\"],[0.4444444444444444,\"#bd3786\"],[0.5555555555555556,\"#d8576b\"],[0.6666666666666666,\"#ed7953\"],[0.7777777777777778,\"#fb9f3a\"],[0.8888888888888888,\"#fdca26\"],[1.0,\"#f0f921\"]]}],\"heatmapgl\":[{\"type\":\"heatmapgl\",\"colorbar\":{\"outlinewidth\":0,\"ticks\":\"\"},\"colorscale\":[[0.0,\"#0d0887\"],[0.1111111111111111,\"#46039f\"],[0.2222222222222222,\"#7201a8\"],[0.3333333333333333,\"#9c179e\"],[0.4444444444444444,\"#bd3786\"],[0.5555555555555556,\"#d8576b\"],[0.6666666666666666,\"#ed7953\"],[0.7777777777777778,\"#fb9f3a\"],[0.8888888888888888,\"#fdca26\"],[1.0,\"#f0f921\"]]}],\"contourcarpet\":[{\"type\":\"contourcarpet\",\"colorbar\":{\"outlinewidth\":0,\"ticks\":\"\"}}],\"contour\":[{\"type\":\"contour\",\"colorbar\":{\"outlinewidth\":0,\"ticks\":\"\"},\"colorscale\":[[0.0,\"#0d0887\"],[0.1111111111111111,\"#46039f\"],[0.2222222222222222,\"#7201a8\"],[0.3333333333333333,\"#9c179e\"],[0.4444444444444444,\"#bd3786\"],[0.5555555555555556,\"#d8576b\"],[0.6666666666666666,\"#ed7953\"],[0.7777777777777778,\"#fb9f3a\"],[0.8888888888888888,\"#fdca26\"],[1.0,\"#f0f921\"]]}],\"surface\":[{\"type\":\"surface\",\"colorbar\":{\"outlinewidth\":0,\"ticks\":\"\"},\"colorscale\":[[0.0,\"#0d0887\"],[0.1111111111111111,\"#46039f\"],[0.2222222222222222,\"#7201a8\"],[0.3333333333333333,\"#9c179e\"],[0.4444444444444444,\"#bd3786\"],[0.5555555555555556,\"#d8576b\"],[0.6666666666666666,\"#ed7953\"],[0.7777777777777778,\"#fb9f3a\"],[0.8888888888888888,\"#fdca26\"],[1.0,\"#f0f921\"]]}],\"mesh3d\":[{\"type\":\"mesh3d\",\"colorbar\":{\"outlinewidth\":0,\"ticks\":\"\"}}],\"scatter\":[{\"fillpattern\":{\"fillmode\":\"overlay\",\"size\":10,\"solidity\":0.2},\"type\":\"scatter\"}],\"parcoords\":[{\"type\":\"parcoords\",\"line\":{\"colorbar\":{\"outlinewidth\":0,\"ticks\":\"\"}}}],\"scatterpolargl\":[{\"type\":\"scatterpolargl\",\"marker\":{\"colorbar\":{\"outlinewidth\":0,\"ticks\":\"\"}}}],\"bar\":[{\"error_x\":{\"color\":\"#2a3f5f\"},\"error_y\":{\"color\":\"#2a3f5f\"},\"marker\":{\"line\":{\"color\":\"#E5ECF6\",\"width\":0.5},\"pattern\":{\"fillmode\":\"overlay\",\"size\":10,\"solidity\":0.2}},\"type\":\"bar\"}],\"scattergeo\":[{\"type\":\"scattergeo\",\"marker\":{\"colorbar\":{\"outlinewidth\":0,\"ticks\":\"\"}}}],\"scatterpolar\":[{\"type\":\"scatterpolar\",\"marker\":{\"colorbar\":{\"outlinewidth\":0,\"ticks\":\"\"}}}],\"histogram\":[{\"marker\":{\"pattern\":{\"fillmode\":\"overlay\",\"size\":10,\"solidity\":0.2}},\"type\":\"histogram\"}],\"scattergl\":[{\"type\":\"scattergl\",\"marker\":{\"colorbar\":{\"outlinewidth\":0,\"ticks\":\"\"}}}],\"scatter3d\":[{\"type\":\"scatter3d\",\"line\":{\"colorbar\":{\"outlinewidth\":0,\"ticks\":\"\"}},\"marker\":{\"colorbar\":{\"outlinewidth\":0,\"ticks\":\"\"}}}],\"scattermapbox\":[{\"type\":\"scattermapbox\",\"marker\":{\"colorbar\":{\"outlinewidth\":0,\"ticks\":\"\"}}}],\"scatterternary\":[{\"type\":\"scatterternary\",\"marker\":{\"colorbar\":{\"outlinewidth\":0,\"ticks\":\"\"}}}],\"scattercarpet\":[{\"type\":\"scattercarpet\",\"marker\":{\"colorbar\":{\"outlinewidth\":0,\"ticks\":\"\"}}}],\"carpet\":[{\"aaxis\":{\"endlinecolor\":\"#2a3f5f\",\"gridcolor\":\"white\",\"linecolor\":\"white\",\"minorgridcolor\":\"white\",\"startlinecolor\":\"#2a3f5f\"},\"baxis\":{\"endlinecolor\":\"#2a3f5f\",\"gridcolor\":\"white\",\"linecolor\":\"white\",\"minorgridcolor\":\"white\",\"startlinecolor\":\"#2a3f5f\"},\"type\":\"carpet\"}],\"table\":[{\"cells\":{\"fill\":{\"color\":\"#EBF0F8\"},\"line\":{\"color\":\"white\"}},\"header\":{\"fill\":{\"color\":\"#C8D4E3\"},\"line\":{\"color\":\"white\"}},\"type\":\"table\"}],\"barpolar\":[{\"marker\":{\"line\":{\"color\":\"#E5ECF6\",\"width\":0.5},\"pattern\":{\"fillmode\":\"overlay\",\"size\":10,\"solidity\":0.2}},\"type\":\"barpolar\"}],\"pie\":[{\"automargin\":true,\"type\":\"pie\"}]},\"layout\":{\"autotypenumbers\":\"strict\",\"colorway\":[\"#636efa\",\"#EF553B\",\"#00cc96\",\"#ab63fa\",\"#FFA15A\",\"#19d3f3\",\"#FF6692\",\"#B6E880\",\"#FF97FF\",\"#FECB52\"],\"font\":{\"color\":\"#2a3f5f\"},\"hovermode\":\"closest\",\"hoverlabel\":{\"align\":\"left\"},\"paper_bgcolor\":\"white\",\"plot_bgcolor\":\"#E5ECF6\",\"polar\":{\"bgcolor\":\"#E5ECF6\",\"angularaxis\":{\"gridcolor\":\"white\",\"linecolor\":\"white\",\"ticks\":\"\"},\"radialaxis\":{\"gridcolor\":\"white\",\"linecolor\":\"white\",\"ticks\":\"\"}},\"ternary\":{\"bgcolor\":\"#E5ECF6\",\"aaxis\":{\"gridcolor\":\"white\",\"linecolor\":\"white\",\"ticks\":\"\"},\"baxis\":{\"gridcolor\":\"white\",\"linecolor\":\"white\",\"ticks\":\"\"},\"caxis\":{\"gridcolor\":\"white\",\"linecolor\":\"white\",\"ticks\":\"\"}},\"coloraxis\":{\"colorbar\":{\"outlinewidth\":0,\"ticks\":\"\"}},\"colorscale\":{\"sequential\":[[0.0,\"#0d0887\"],[0.1111111111111111,\"#46039f\"],[0.2222222222222222,\"#7201a8\"],[0.3333333333333333,\"#9c179e\"],[0.4444444444444444,\"#bd3786\"],[0.5555555555555556,\"#d8576b\"],[0.6666666666666666,\"#ed7953\"],[0.7777777777777778,\"#fb9f3a\"],[0.8888888888888888,\"#fdca26\"],[1.0,\"#f0f921\"]],\"sequentialminus\":[[0.0,\"#0d0887\"],[0.1111111111111111,\"#46039f\"],[0.2222222222222222,\"#7201a8\"],[0.3333333333333333,\"#9c179e\"],[0.4444444444444444,\"#bd3786\"],[0.5555555555555556,\"#d8576b\"],[0.6666666666666666,\"#ed7953\"],[0.7777777777777778,\"#fb9f3a\"],[0.8888888888888888,\"#fdca26\"],[1.0,\"#f0f921\"]],\"diverging\":[[0,\"#8e0152\"],[0.1,\"#c51b7d\"],[0.2,\"#de77ae\"],[0.3,\"#f1b6da\"],[0.4,\"#fde0ef\"],[0.5,\"#f7f7f7\"],[0.6,\"#e6f5d0\"],[0.7,\"#b8e186\"],[0.8,\"#7fbc41\"],[0.9,\"#4d9221\"],[1,\"#276419\"]]},\"xaxis\":{\"gridcolor\":\"white\",\"linecolor\":\"white\",\"ticks\":\"\",\"title\":{\"standoff\":15},\"zerolinecolor\":\"white\",\"automargin\":true,\"zerolinewidth\":2},\"yaxis\":{\"gridcolor\":\"white\",\"linecolor\":\"white\",\"ticks\":\"\",\"title\":{\"standoff\":15},\"zerolinecolor\":\"white\",\"automargin\":true,\"zerolinewidth\":2},\"scene\":{\"xaxis\":{\"backgroundcolor\":\"#E5ECF6\",\"gridcolor\":\"white\",\"linecolor\":\"white\",\"showbackground\":true,\"ticks\":\"\",\"zerolinecolor\":\"white\",\"gridwidth\":2},\"yaxis\":{\"backgroundcolor\":\"#E5ECF6\",\"gridcolor\":\"white\",\"linecolor\":\"white\",\"showbackground\":true,\"ticks\":\"\",\"zerolinecolor\":\"white\",\"gridwidth\":2},\"zaxis\":{\"backgroundcolor\":\"#E5ECF6\",\"gridcolor\":\"white\",\"linecolor\":\"white\",\"showbackground\":true,\"ticks\":\"\",\"zerolinecolor\":\"white\",\"gridwidth\":2}},\"shapedefaults\":{\"line\":{\"color\":\"#2a3f5f\"}},\"annotationdefaults\":{\"arrowcolor\":\"#2a3f5f\",\"arrowhead\":0,\"arrowwidth\":1},\"geo\":{\"bgcolor\":\"white\",\"landcolor\":\"#E5ECF6\",\"subunitcolor\":\"white\",\"showland\":true,\"showlakes\":true,\"lakecolor\":\"white\"},\"title\":{\"x\":0.05},\"mapbox\":{\"style\":\"light\"}}}},                        {\"responsive\": true}                    ).then(function(){\n",
       "                            \n",
       "var gd = document.getElementById('f9b53865-053c-4f88-b87d-716855a5dcf1');\n",
       "var x = new MutationObserver(function (mutations, observer) {{\n",
       "        var display = window.getComputedStyle(gd).display;\n",
       "        if (!display || display === 'none') {{\n",
       "            console.log([gd, 'removed!']);\n",
       "            Plotly.purge(gd);\n",
       "            observer.disconnect();\n",
       "        }}\n",
       "}});\n",
       "\n",
       "// Listen for the removal of the full notebook cells\n",
       "var notebookContainer = gd.closest('#notebook-container');\n",
       "if (notebookContainer) {{\n",
       "    x.observe(notebookContainer, {childList: true});\n",
       "}}\n",
       "\n",
       "// Listen for the clearing of the current output cell\n",
       "var outputEl = gd.closest('.output');\n",
       "if (outputEl) {{\n",
       "    x.observe(outputEl, {childList: true});\n",
       "}}\n",
       "\n",
       "                        })                };                });            </script>        </div>"
      ]
     },
     "metadata": {},
     "output_type": "display_data"
    }
   ],
   "source": [
    "trace = go.Scatter(x=df_group1['view_count'], y=df['total impressions'], mode='markers')\n",
    "\n",
    "layout = go.Layout(\n",
    "    title='Scatter Plot',\n",
    "    xaxis=dict(title='Total Views'),\n",
    "    yaxis=dict(title='Total Impressions')\n",
    ")\n",
    "\n",
    "fig = go.Figure(data=[trace], layout=layout)\n",
    "\n",
    "fig.show()"
   ]
  },
  {
   "cell_type": "code",
   "execution_count": null,
   "id": "39b1b631",
   "metadata": {},
   "outputs": [],
   "source": []
  }
 ],
 "metadata": {
  "kernelspec": {
   "display_name": "Python 3 (ipykernel)",
   "language": "python",
   "name": "python3"
  },
  "language_info": {
   "codemirror_mode": {
    "name": "ipython",
    "version": 3
   },
   "file_extension": ".py",
   "mimetype": "text/x-python",
   "name": "python",
   "nbconvert_exporter": "python",
   "pygments_lexer": "ipython3",
   "version": "3.10.9"
  }
 },
 "nbformat": 4,
 "nbformat_minor": 5
}
